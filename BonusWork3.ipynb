{
  "nbformat": 4,
  "nbformat_minor": 0,
  "metadata": {
    "colab": {
      "name": "BonusWork3.ipynb",
      "provenance": [],
      "toc_visible": true
    },
    "kernelspec": {
      "name": "python3",
      "display_name": "Python 3"
    },
    "language_info": {
      "name": "python"
    }
  },
  "cells": [
    {
      "cell_type": "markdown",
      "source": [
        "# Bonus Work 3\n",
        "Vamshidhar Reddy Parupally - 016001427\n"
      ],
      "metadata": {
        "id": "tqLv8wkkOZCN"
      }
    },
    {
      "cell_type": "code",
      "source": [
        "# ! pip install selenium\n"
      ],
      "metadata": {
        "id": "TU6ruo2PtPty"
      },
      "execution_count": 1,
      "outputs": []
    },
    {
      "cell_type": "code",
      "source": [
        "# !apt-get update \n",
        "# !apt install chromium-chromedriver\n",
        "\n",
        "# from selenium import webdriver\n",
        "# chrome_options = webdriver.ChromeOptions()\n",
        "# chrome_options.add_argument('--headless')\n",
        "# chrome_options.add_argument('--no-sandbox')\n",
        "# chrome_options.add_argument('--disable-dev-shm-usage')\n",
        "# driver = webdriver.Chrome('chromedriver',chrome_options=chrome_options)"
      ],
      "metadata": {
        "id": "2EjGN0TFxpA5"
      },
      "execution_count": 2,
      "outputs": []
    },
    {
      "cell_type": "code",
      "source": [
        "# driver.get(\"https://twitter.com/TilburgU\")"
      ],
      "metadata": {
        "id": "-gY54m38uV6a"
      },
      "execution_count": 3,
      "outputs": []
    },
    {
      "cell_type": "code",
      "source": [
        "# # make sure to login to your Twitter account first!\n",
        "# from bs4 import BeautifulSoup\n",
        "# res = driver.page_source.encode('utf-8')\n",
        "# soup = BeautifulSoup(res, \"html.parser\")"
      ],
      "metadata": {
        "id": "WH-xSrlzu5Id"
      },
      "execution_count": 4,
      "outputs": []
    },
    {
      "cell_type": "code",
      "source": [
        "import pandas as pd\n",
        "import numpy as np"
      ],
      "metadata": {
        "id": "GboAExmtyZYg"
      },
      "execution_count": 5,
      "outputs": []
    },
    {
      "cell_type": "code",
      "source": [
        "# def search_tweets(query):\n",
        "#     driver.get(\"https://twitter.com/search?q=\" + query) \n",
        "#     tweets = []\n",
        "#     last_height = 0\n",
        "#     current_height = 0\n",
        "\n",
        "#     iterator = 0\n",
        "#     while True: \n",
        "#         iterator += 1\n",
        "        \n",
        "#         current_height = driver.execute_script('return document.body.scrollHeight')\n",
        "\n",
        "#         if current_height == last_height: \n",
        "#             break\n",
        "\n",
        "#         res = driver.page_source.encode('utf-8')\n",
        "#         soup = BeautifulSoup(res, \"html.parser\")\n",
        "#         data = soup.find(attrs={\"data-testid\": \"primaryColumn\"}).find_all(attrs={\"data-testid\":\"tweet\"})\n",
        "\n",
        "#         for counter in range(len(data)):\n",
        "#             tweet = data[counter].find_all(attrs={\"dir\":\"auto\"})\n",
        "\n",
        "#             text = tweet[4].text\n",
        "#             try:\n",
        "#                 link = tweet[3]['href']\n",
        "#             except:\n",
        "#                 link = '/LINK-NOT-AVAILABLE'\n",
        "\n",
        "#             tweet_data = {\n",
        "#                             \"tweet\": text, \n",
        "#                             \"link\": \"https://twitter.com/\" + link\n",
        "#                          }\n",
        "\n",
        "#             if tweet_data not in tweets: \n",
        "#                 tweets.append(tweet_data)\n",
        "\n",
        "#         driver.execute_script('window.scrollTo(0, document.body.scrollHeight);')       \n",
        "#         last_height = current_height\n",
        "        \n",
        "#         if (iterator == 2): break\n",
        "        \n",
        "#     df = pd.DataFrame(tweets)\n",
        "#     df.to_csv(\"search_tweets.csv\", index=False)\n",
        "\n",
        "# collected_tweets = search_tweets('(\"Tilburg University\" OR \"Tilburg Universiteit\")')# Run search"
      ],
      "metadata": {
        "id": "Kaq7hXHKvPv4"
      },
      "execution_count": 6,
      "outputs": []
    },
    {
      "cell_type": "code",
      "source": [
        "# collected_tweets"
      ],
      "metadata": {
        "id": "X7mAYd-kvS1e"
      },
      "execution_count": 7,
      "outputs": []
    },
    {
      "cell_type": "code",
      "source": [
        "import time\n",
        "from time import sleep"
      ],
      "metadata": {
        "id": "8HDOOPQn0C_O"
      },
      "execution_count": 8,
      "outputs": []
    },
    {
      "cell_type": "code",
      "source": [
        "# from selenium import webdriver\n",
        "# from selenium.webdriver.common.keys import Keys\n",
        "# class SeleniumClient(object):\n",
        "#     def __init__(self):\n",
        "#         #Initialization method. \n",
        "#         self.chrome_options = webdriver.ChromeOptions()\n",
        "#         self.chrome_options.add_argument('--headless')\n",
        "#         self.chrome_options.add_argument('--no-sandbox')\n",
        "#         self.chrome_options.add_argument('--disable-setuid-sandbox')\n",
        "\n",
        "#         # you need to provide the path of chromdriver in your system\n",
        "#         self.browser = webdriver.Chrome('chromedriver', options=self.chrome_options)\n",
        "\n",
        "#         self.base_url = 'https://twitter.com/search?q='\n",
        "\n",
        "#     def get_tweets(self, query):\n",
        "#         ''' \n",
        "#         Function to fetch tweets. \n",
        "#         '''\n",
        "        \n",
        "#         self.browser.get(self.base_url+query)\n",
        "#         time.sleep(2)\n",
        "\n",
        "#         body = self.browser.find_element_by_tag_name('body')\n",
        "\n",
        "#         for _ in range(3000):\n",
        "#             body.send_keys(Keys.PAGE_DOWN)\n",
        "#             time.sleep(0.3)\n",
        "\n",
        "#         timeline = self.browser.find_element_by_id('timeline')\n",
        "#         tweet_nodes = timeline.find_elements_by_css_selector('.tweet-text')\n",
        "\n",
        "#         return pd.DataFrame({'tweets': [tweet_node.text for tweet_node in tweet_nodes]})\n",
        "\n",
        "        "
      ],
      "metadata": {
        "id": "UfcW5zwWtGoU"
      },
      "execution_count": 9,
      "outputs": []
    },
    {
      "cell_type": "code",
      "source": [
        "# selenium_client = SeleniumClient()\n",
        "\n",
        "# tweets_df = selenium_client.get_tweets('AI and Deep learning')"
      ],
      "metadata": {
        "id": "CPAhMraotHQb"
      },
      "execution_count": 10,
      "outputs": []
    },
    {
      "cell_type": "markdown",
      "source": [
        "# Getting tweets from twitter"
      ],
      "metadata": {
        "id": "_IxkycPbhhRc"
      }
    },
    {
      "cell_type": "code",
      "source": [
        "import tweepy\n",
        "from tweepy import OAuthHandler\n",
        "class TwitterClient(object): \n",
        "    def __init__(self):\n",
        "        # Access Credentials \n",
        "        consumer_key = 'GXiPV0P6hJenfSfOHwHi3qfAR'\n",
        "        consumer_secret = 'AAGUf3AkwHHtICARCBuoirCnBtfPQEquGsQH7HVPOnPrq6Mu5G'\n",
        "        access_token = '1520529519374786560-ynmwaEA5FEelmUsO0Etcx89PEpnSKF'\n",
        "        access_token_secret = '2yNBlLypZEF1g4G6DM8S6bTHrvYHAhWWCOuLlwcDe20wq'\n",
        "        try: \n",
        "            # OAuthHandler object \n",
        "            auth = OAuthHandler(consumer_key, consumer_secret) \n",
        "            # set access token and secret \n",
        "            auth.set_access_token(access_token, access_token_secret) \n",
        "            # create tweepy API object to fetch tweets \n",
        "            self.api = tweepy.API(auth, wait_on_rate_limit=True, wait_on_rate_limit_notify=True)\n",
        "            \n",
        "        except tweepy.TweepError as e:\n",
        "            print(f\"Error: Twitter Authentication Failed - \\n{str(e)}\") \n",
        "\n",
        "    # Function to fetch tweets\n",
        "    def get_tweets(self, query, maxTweets = 1000): \n",
        "        # empty list to store parsed tweets \n",
        "        tweets = [] \n",
        "        sinceId = None\n",
        "        max_id = -1\n",
        "        tweetCount = 0\n",
        "        tweetsPerQry = 100\n",
        "        \n",
        "        while tweetCount < maxTweets:\n",
        "            try:\n",
        "                if (max_id <= 0):\n",
        "                    if (not sinceId):\n",
        "                        new_tweets = self.api.search(q=query, count=tweetsPerQry)\n",
        "                    else:\n",
        "                        new_tweets = self.api.search(q=query, count=tweetsPerQry,\n",
        "                                                since_id=sinceId)\n",
        "                else:\n",
        "                    if (not sinceId):\n",
        "                        new_tweets = self.api.search(q=query, count=tweetsPerQry,\n",
        "                                                max_id=str(max_id - 1))\n",
        "                    else:\n",
        "                        new_tweets = self.api.search(q=query, count=tweetsPerQry,\n",
        "                                                max_id=str(max_id - 1),\n",
        "                                                since_id=sinceId)\n",
        "                if not new_tweets:\n",
        "                    print(\"No more tweets found\")\n",
        "                    break\n",
        "                    \n",
        "                for tweet in new_tweets:\n",
        "                    parsed_tweet = {} \n",
        "                    parsed_tweet['tweets'] = tweet.text \n",
        "\n",
        "                    # appending parsed tweet to tweets list \n",
        "                    if tweet.retweet_count > 0: \n",
        "                        # if tweet has retweets, ensure that it is appended only once \n",
        "                        if parsed_tweet not in tweets: \n",
        "                            tweets.append(parsed_tweet) \n",
        "                    else: \n",
        "                        tweets.append(parsed_tweet) \n",
        "                        \n",
        "                tweetCount += len(new_tweets)\n",
        "                print(\"Downloaded {0} tweets\".format(tweetCount))\n",
        "                max_id = new_tweets[-1].id\n",
        "\n",
        "            except tweepy.TweepError as e:\n",
        "                print(\"Tweepy error : \" + str(e))\n",
        "                break\n",
        "        \n",
        "        return pd.DataFrame(tweets)"
      ],
      "metadata": {
        "id": "mnT6l6FBtyVn"
      },
      "execution_count": 11,
      "outputs": []
    },
    {
      "cell_type": "code",
      "source": [
        "selenium_client = TwitterClient()\n",
        "\n",
        "tweets_df = selenium_client.get_tweets('environment')"
      ],
      "metadata": {
        "colab": {
          "base_uri": "https://localhost:8080/"
        },
        "id": "x3HJQenZ61qN",
        "outputId": "21b689c5-525e-4c43-ddec-a83f63751758"
      },
      "execution_count": 12,
      "outputs": [
        {
          "output_type": "stream",
          "name": "stdout",
          "text": [
            "Downloaded 100 tweets\n",
            "Downloaded 200 tweets\n",
            "Downloaded 300 tweets\n",
            "Downloaded 400 tweets\n",
            "Downloaded 500 tweets\n",
            "Downloaded 600 tweets\n",
            "Downloaded 700 tweets\n",
            "Downloaded 800 tweets\n",
            "Downloaded 900 tweets\n",
            "Downloaded 1000 tweets\n"
          ]
        }
      ]
    },
    {
      "cell_type": "code",
      "source": [
        "tweets_df.head()"
      ],
      "metadata": {
        "colab": {
          "base_uri": "https://localhost:8080/",
          "height": 206
        },
        "id": "FzkD0UlA77cy",
        "outputId": "22298dbc-33e4-4cf6-9467-f7a1fca8ddcc"
      },
      "execution_count": 13,
      "outputs": [
        {
          "output_type": "execute_result",
          "data": {
            "text/plain": [
              "                                              tweets\n",
              "0  @ainunrozi pemaaf sih ak mah, cm ya gamau kena...\n",
              "1  RT @Nyanfood: environment work for @isavtuber ...\n",
              "2  RT @TRU_Lab: Fascinating book by #IanSanjayPat...\n",
              "3  RT @FrancisSuarez: As someone who is pro #bitc...\n",
              "4  RT @down_with_putin: @Nestle is one of the wor..."
            ],
            "text/html": [
              "\n",
              "  <div id=\"df-124b82d2-6c4e-4646-98ea-227b06bc15ed\">\n",
              "    <div class=\"colab-df-container\">\n",
              "      <div>\n",
              "<style scoped>\n",
              "    .dataframe tbody tr th:only-of-type {\n",
              "        vertical-align: middle;\n",
              "    }\n",
              "\n",
              "    .dataframe tbody tr th {\n",
              "        vertical-align: top;\n",
              "    }\n",
              "\n",
              "    .dataframe thead th {\n",
              "        text-align: right;\n",
              "    }\n",
              "</style>\n",
              "<table border=\"1\" class=\"dataframe\">\n",
              "  <thead>\n",
              "    <tr style=\"text-align: right;\">\n",
              "      <th></th>\n",
              "      <th>tweets</th>\n",
              "    </tr>\n",
              "  </thead>\n",
              "  <tbody>\n",
              "    <tr>\n",
              "      <th>0</th>\n",
              "      <td>@ainunrozi pemaaf sih ak mah, cm ya gamau kena...</td>\n",
              "    </tr>\n",
              "    <tr>\n",
              "      <th>1</th>\n",
              "      <td>RT @Nyanfood: environment work for @isavtuber ...</td>\n",
              "    </tr>\n",
              "    <tr>\n",
              "      <th>2</th>\n",
              "      <td>RT @TRU_Lab: Fascinating book by #IanSanjayPat...</td>\n",
              "    </tr>\n",
              "    <tr>\n",
              "      <th>3</th>\n",
              "      <td>RT @FrancisSuarez: As someone who is pro #bitc...</td>\n",
              "    </tr>\n",
              "    <tr>\n",
              "      <th>4</th>\n",
              "      <td>RT @down_with_putin: @Nestle is one of the wor...</td>\n",
              "    </tr>\n",
              "  </tbody>\n",
              "</table>\n",
              "</div>\n",
              "      <button class=\"colab-df-convert\" onclick=\"convertToInteractive('df-124b82d2-6c4e-4646-98ea-227b06bc15ed')\"\n",
              "              title=\"Convert this dataframe to an interactive table.\"\n",
              "              style=\"display:none;\">\n",
              "        \n",
              "  <svg xmlns=\"http://www.w3.org/2000/svg\" height=\"24px\"viewBox=\"0 0 24 24\"\n",
              "       width=\"24px\">\n",
              "    <path d=\"M0 0h24v24H0V0z\" fill=\"none\"/>\n",
              "    <path d=\"M18.56 5.44l.94 2.06.94-2.06 2.06-.94-2.06-.94-.94-2.06-.94 2.06-2.06.94zm-11 1L8.5 8.5l.94-2.06 2.06-.94-2.06-.94L8.5 2.5l-.94 2.06-2.06.94zm10 10l.94 2.06.94-2.06 2.06-.94-2.06-.94-.94-2.06-.94 2.06-2.06.94z\"/><path d=\"M17.41 7.96l-1.37-1.37c-.4-.4-.92-.59-1.43-.59-.52 0-1.04.2-1.43.59L10.3 9.45l-7.72 7.72c-.78.78-.78 2.05 0 2.83L4 21.41c.39.39.9.59 1.41.59.51 0 1.02-.2 1.41-.59l7.78-7.78 2.81-2.81c.8-.78.8-2.07 0-2.86zM5.41 20L4 18.59l7.72-7.72 1.47 1.35L5.41 20z\"/>\n",
              "  </svg>\n",
              "      </button>\n",
              "      \n",
              "  <style>\n",
              "    .colab-df-container {\n",
              "      display:flex;\n",
              "      flex-wrap:wrap;\n",
              "      gap: 12px;\n",
              "    }\n",
              "\n",
              "    .colab-df-convert {\n",
              "      background-color: #E8F0FE;\n",
              "      border: none;\n",
              "      border-radius: 50%;\n",
              "      cursor: pointer;\n",
              "      display: none;\n",
              "      fill: #1967D2;\n",
              "      height: 32px;\n",
              "      padding: 0 0 0 0;\n",
              "      width: 32px;\n",
              "    }\n",
              "\n",
              "    .colab-df-convert:hover {\n",
              "      background-color: #E2EBFA;\n",
              "      box-shadow: 0px 1px 2px rgba(60, 64, 67, 0.3), 0px 1px 3px 1px rgba(60, 64, 67, 0.15);\n",
              "      fill: #174EA6;\n",
              "    }\n",
              "\n",
              "    [theme=dark] .colab-df-convert {\n",
              "      background-color: #3B4455;\n",
              "      fill: #D2E3FC;\n",
              "    }\n",
              "\n",
              "    [theme=dark] .colab-df-convert:hover {\n",
              "      background-color: #434B5C;\n",
              "      box-shadow: 0px 1px 3px 1px rgba(0, 0, 0, 0.15);\n",
              "      filter: drop-shadow(0px 1px 2px rgba(0, 0, 0, 0.3));\n",
              "      fill: #FFFFFF;\n",
              "    }\n",
              "  </style>\n",
              "\n",
              "      <script>\n",
              "        const buttonEl =\n",
              "          document.querySelector('#df-124b82d2-6c4e-4646-98ea-227b06bc15ed button.colab-df-convert');\n",
              "        buttonEl.style.display =\n",
              "          google.colab.kernel.accessAllowed ? 'block' : 'none';\n",
              "\n",
              "        async function convertToInteractive(key) {\n",
              "          const element = document.querySelector('#df-124b82d2-6c4e-4646-98ea-227b06bc15ed');\n",
              "          const dataTable =\n",
              "            await google.colab.kernel.invokeFunction('convertToInteractive',\n",
              "                                                     [key], {});\n",
              "          if (!dataTable) return;\n",
              "\n",
              "          const docLinkHtml = 'Like what you see? Visit the ' +\n",
              "            '<a target=\"_blank\" href=https://colab.research.google.com/notebooks/data_table.ipynb>data table notebook</a>'\n",
              "            + ' to learn more about interactive tables.';\n",
              "          element.innerHTML = '';\n",
              "          dataTable['output_type'] = 'display_data';\n",
              "          await google.colab.output.renderOutput(dataTable, element);\n",
              "          const docLink = document.createElement('div');\n",
              "          docLink.innerHTML = docLinkHtml;\n",
              "          element.appendChild(docLink);\n",
              "        }\n",
              "      </script>\n",
              "    </div>\n",
              "  </div>\n",
              "  "
            ]
          },
          "metadata": {},
          "execution_count": 13
        }
      ]
    },
    {
      "cell_type": "markdown",
      "source": [
        "# Pre Processing "
      ],
      "metadata": {
        "id": "WV2yW8CThm2T"
      }
    },
    {
      "cell_type": "code",
      "source": [
        "import nltk\n",
        "from nltk.sentiment.vader import SentimentIntensityAnalyzer\n",
        "from textblob import TextBlob\n",
        "def fetch_sentiment_using_SIA(text):\n",
        "    sid = SentimentIntensityAnalyzer()\n",
        "    polarity_scores = sid.polarity_scores(text)\n",
        "    if polarity_scores['neg'] > polarity_scores['pos']:\n",
        "        return 'negative'\n",
        "    else:\n",
        "        return 'positive'\n",
        "\n",
        "def fetch_sentiment_using_textblob(text):\n",
        "    analysis = TextBlob(text)\n",
        "    # set sentiment \n",
        "    if analysis.sentiment.polarity > 0:\n",
        "        return 'positive'\n",
        "    elif analysis.sentiment.polarity < 0: \n",
        "        return 'negative'\n",
        "    else:\n",
        "        return 'neutral'"
      ],
      "metadata": {
        "colab": {
          "base_uri": "https://localhost:8080/"
        },
        "id": "1Gv7z_SH9Wbi",
        "outputId": "b24c483a-b3b4-4c65-ed20-1e4522ed21d6"
      },
      "execution_count": 14,
      "outputs": [
        {
          "output_type": "stream",
          "name": "stderr",
          "text": [
            "/usr/local/lib/python3.7/dist-packages/nltk/twitter/__init__.py:20: UserWarning: The twython library has not been installed. Some functionality from the twitter package will not be available.\n",
            "  warnings.warn(\"The twython library has not been installed. \"\n"
          ]
        }
      ]
    },
    {
      "cell_type": "code",
      "source": [
        "import re\n",
        "def remove_pattern(text, pattern_regex):\n",
        "    r = re.findall(pattern_regex, text)\n",
        "    for i in r:\n",
        "        text = re.sub(i, '', text)\n",
        "    \n",
        "    return text\n",
        "# We are keeping cleaned tweets in a new column called 'tidy_tweets'\n",
        "tweets_df['tidy_tweets'] = np.vectorize(remove_pattern)(tweets_df['tweets'], \"@[\\w]*: | *RT*\")"
      ],
      "metadata": {
        "id": "5Y7_4Dex9clO"
      },
      "execution_count": 15,
      "outputs": []
    },
    {
      "cell_type": "code",
      "source": [
        "cleaned_tweets = []\n",
        "\n",
        "for index, row in tweets_df.iterrows():\n",
        "    # Here we are filtering out all the words that contains link\n",
        "    words_without_links = [word for word in row.tidy_tweets.split()        if 'http' not in word]\n",
        "    cleaned_tweets.append(' '.join(words_without_links))\n",
        "\n",
        "tweets_df['tidy_tweets'] = cleaned_tweets"
      ],
      "metadata": {
        "id": "jFJ4XvYc9f6T"
      },
      "execution_count": 16,
      "outputs": []
    },
    {
      "cell_type": "code",
      "source": [
        "tweets_df.drop_duplicates(subset=['tidy_tweets'], keep=False)"
      ],
      "metadata": {
        "colab": {
          "base_uri": "https://localhost:8080/",
          "height": 424
        },
        "id": "xZ5vduZT9-BC",
        "outputId": "35ffa042-f732-4795-dca1-94acc623d328"
      },
      "execution_count": 17,
      "outputs": [
        {
          "output_type": "execute_result",
          "data": {
            "text/plain": [
              "                                                tweets  \\\n",
              "0    @ainunrozi pemaaf sih ak mah, cm ya gamau kena...   \n",
              "1    RT @Nyanfood: environment work for @isavtuber ...   \n",
              "2    RT @TRU_Lab: Fascinating book by #IanSanjayPat...   \n",
              "3    RT @FrancisSuarez: As someone who is pro #bitc...   \n",
              "4    RT @down_with_putin: @Nestle is one of the wor...   \n",
              "..                                                 ...   \n",
              "645  @SorexOrnatus \"Like a clam\" is a good metaphor...   \n",
              "646  It's starting to become a more analyzing situa...   \n",
              "647  RT @urbangridlock: Had a lovely afternoon at S...   \n",
              "648  @greenwoodPG1 @pelesburner Impossible to compa...   \n",
              "649  RT @tmsnbb: Joe Biden administration announces...   \n",
              "\n",
              "                                           tidy_tweets  \n",
              "0    @ainunrozi pemaaf sih ak mah, cm ya gamau kena...  \n",
              "1    environment work for @isavtuber figure art by ...  \n",
              "2    Fascinating book by #IanSanjayPatel of @bbkpsy...  \n",
              "3    As someone who is pro #bitcoin and cares about...  \n",
              "4    @Nestle is one of the worst companies in the w...  \n",
              "..                                                 ...  \n",
              "645  @SorexOrnatus \"Like a clam\" is a good metaphor...  \n",
              "646  It's starting to become a more analyzing situa...  \n",
              "647  Had a lovely afternoon at Spike Island. Great ...  \n",
              "648  @greenwoodPG1 @pelesburner Impossible to compa...  \n",
              "649  Joe Biden administration announces $3B to supp...  \n",
              "\n",
              "[630 rows x 2 columns]"
            ],
            "text/html": [
              "\n",
              "  <div id=\"df-2b5664f0-3e12-445e-ab17-bd5c31b091ff\">\n",
              "    <div class=\"colab-df-container\">\n",
              "      <div>\n",
              "<style scoped>\n",
              "    .dataframe tbody tr th:only-of-type {\n",
              "        vertical-align: middle;\n",
              "    }\n",
              "\n",
              "    .dataframe tbody tr th {\n",
              "        vertical-align: top;\n",
              "    }\n",
              "\n",
              "    .dataframe thead th {\n",
              "        text-align: right;\n",
              "    }\n",
              "</style>\n",
              "<table border=\"1\" class=\"dataframe\">\n",
              "  <thead>\n",
              "    <tr style=\"text-align: right;\">\n",
              "      <th></th>\n",
              "      <th>tweets</th>\n",
              "      <th>tidy_tweets</th>\n",
              "    </tr>\n",
              "  </thead>\n",
              "  <tbody>\n",
              "    <tr>\n",
              "      <th>0</th>\n",
              "      <td>@ainunrozi pemaaf sih ak mah, cm ya gamau kena...</td>\n",
              "      <td>@ainunrozi pemaaf sih ak mah, cm ya gamau kena...</td>\n",
              "    </tr>\n",
              "    <tr>\n",
              "      <th>1</th>\n",
              "      <td>RT @Nyanfood: environment work for @isavtuber ...</td>\n",
              "      <td>environment work for @isavtuber figure art by ...</td>\n",
              "    </tr>\n",
              "    <tr>\n",
              "      <th>2</th>\n",
              "      <td>RT @TRU_Lab: Fascinating book by #IanSanjayPat...</td>\n",
              "      <td>Fascinating book by #IanSanjayPatel of @bbkpsy...</td>\n",
              "    </tr>\n",
              "    <tr>\n",
              "      <th>3</th>\n",
              "      <td>RT @FrancisSuarez: As someone who is pro #bitc...</td>\n",
              "      <td>As someone who is pro #bitcoin and cares about...</td>\n",
              "    </tr>\n",
              "    <tr>\n",
              "      <th>4</th>\n",
              "      <td>RT @down_with_putin: @Nestle is one of the wor...</td>\n",
              "      <td>@Nestle is one of the worst companies in the w...</td>\n",
              "    </tr>\n",
              "    <tr>\n",
              "      <th>...</th>\n",
              "      <td>...</td>\n",
              "      <td>...</td>\n",
              "    </tr>\n",
              "    <tr>\n",
              "      <th>645</th>\n",
              "      <td>@SorexOrnatus \"Like a clam\" is a good metaphor...</td>\n",
              "      <td>@SorexOrnatus \"Like a clam\" is a good metaphor...</td>\n",
              "    </tr>\n",
              "    <tr>\n",
              "      <th>646</th>\n",
              "      <td>It's starting to become a more analyzing situa...</td>\n",
              "      <td>It's starting to become a more analyzing situa...</td>\n",
              "    </tr>\n",
              "    <tr>\n",
              "      <th>647</th>\n",
              "      <td>RT @urbangridlock: Had a lovely afternoon at S...</td>\n",
              "      <td>Had a lovely afternoon at Spike Island. Great ...</td>\n",
              "    </tr>\n",
              "    <tr>\n",
              "      <th>648</th>\n",
              "      <td>@greenwoodPG1 @pelesburner Impossible to compa...</td>\n",
              "      <td>@greenwoodPG1 @pelesburner Impossible to compa...</td>\n",
              "    </tr>\n",
              "    <tr>\n",
              "      <th>649</th>\n",
              "      <td>RT @tmsnbb: Joe Biden administration announces...</td>\n",
              "      <td>Joe Biden administration announces $3B to supp...</td>\n",
              "    </tr>\n",
              "  </tbody>\n",
              "</table>\n",
              "<p>630 rows × 2 columns</p>\n",
              "</div>\n",
              "      <button class=\"colab-df-convert\" onclick=\"convertToInteractive('df-2b5664f0-3e12-445e-ab17-bd5c31b091ff')\"\n",
              "              title=\"Convert this dataframe to an interactive table.\"\n",
              "              style=\"display:none;\">\n",
              "        \n",
              "  <svg xmlns=\"http://www.w3.org/2000/svg\" height=\"24px\"viewBox=\"0 0 24 24\"\n",
              "       width=\"24px\">\n",
              "    <path d=\"M0 0h24v24H0V0z\" fill=\"none\"/>\n",
              "    <path d=\"M18.56 5.44l.94 2.06.94-2.06 2.06-.94-2.06-.94-.94-2.06-.94 2.06-2.06.94zm-11 1L8.5 8.5l.94-2.06 2.06-.94-2.06-.94L8.5 2.5l-.94 2.06-2.06.94zm10 10l.94 2.06.94-2.06 2.06-.94-2.06-.94-.94-2.06-.94 2.06-2.06.94z\"/><path d=\"M17.41 7.96l-1.37-1.37c-.4-.4-.92-.59-1.43-.59-.52 0-1.04.2-1.43.59L10.3 9.45l-7.72 7.72c-.78.78-.78 2.05 0 2.83L4 21.41c.39.39.9.59 1.41.59.51 0 1.02-.2 1.41-.59l7.78-7.78 2.81-2.81c.8-.78.8-2.07 0-2.86zM5.41 20L4 18.59l7.72-7.72 1.47 1.35L5.41 20z\"/>\n",
              "  </svg>\n",
              "      </button>\n",
              "      \n",
              "  <style>\n",
              "    .colab-df-container {\n",
              "      display:flex;\n",
              "      flex-wrap:wrap;\n",
              "      gap: 12px;\n",
              "    }\n",
              "\n",
              "    .colab-df-convert {\n",
              "      background-color: #E8F0FE;\n",
              "      border: none;\n",
              "      border-radius: 50%;\n",
              "      cursor: pointer;\n",
              "      display: none;\n",
              "      fill: #1967D2;\n",
              "      height: 32px;\n",
              "      padding: 0 0 0 0;\n",
              "      width: 32px;\n",
              "    }\n",
              "\n",
              "    .colab-df-convert:hover {\n",
              "      background-color: #E2EBFA;\n",
              "      box-shadow: 0px 1px 2px rgba(60, 64, 67, 0.3), 0px 1px 3px 1px rgba(60, 64, 67, 0.15);\n",
              "      fill: #174EA6;\n",
              "    }\n",
              "\n",
              "    [theme=dark] .colab-df-convert {\n",
              "      background-color: #3B4455;\n",
              "      fill: #D2E3FC;\n",
              "    }\n",
              "\n",
              "    [theme=dark] .colab-df-convert:hover {\n",
              "      background-color: #434B5C;\n",
              "      box-shadow: 0px 1px 3px 1px rgba(0, 0, 0, 0.15);\n",
              "      filter: drop-shadow(0px 1px 2px rgba(0, 0, 0, 0.3));\n",
              "      fill: #FFFFFF;\n",
              "    }\n",
              "  </style>\n",
              "\n",
              "      <script>\n",
              "        const buttonEl =\n",
              "          document.querySelector('#df-2b5664f0-3e12-445e-ab17-bd5c31b091ff button.colab-df-convert');\n",
              "        buttonEl.style.display =\n",
              "          google.colab.kernel.accessAllowed ? 'block' : 'none';\n",
              "\n",
              "        async function convertToInteractive(key) {\n",
              "          const element = document.querySelector('#df-2b5664f0-3e12-445e-ab17-bd5c31b091ff');\n",
              "          const dataTable =\n",
              "            await google.colab.kernel.invokeFunction('convertToInteractive',\n",
              "                                                     [key], {});\n",
              "          if (!dataTable) return;\n",
              "\n",
              "          const docLinkHtml = 'Like what you see? Visit the ' +\n",
              "            '<a target=\"_blank\" href=https://colab.research.google.com/notebooks/data_table.ipynb>data table notebook</a>'\n",
              "            + ' to learn more about interactive tables.';\n",
              "          element.innerHTML = '';\n",
              "          dataTable['output_type'] = 'display_data';\n",
              "          await google.colab.output.renderOutput(dataTable, element);\n",
              "          const docLink = document.createElement('div');\n",
              "          docLink.innerHTML = docLinkHtml;\n",
              "          element.appendChild(docLink);\n",
              "        }\n",
              "      </script>\n",
              "    </div>\n",
              "  </div>\n",
              "  "
            ]
          },
          "metadata": {},
          "execution_count": 17
        }
      ]
    },
    {
      "cell_type": "code",
      "source": [
        "tweets_df['absolute_tidy_tweets'] = tweets_df['tidy_tweets'].str.replace(\"[^a-zA-Z# ]\", \"\")"
      ],
      "metadata": {
        "colab": {
          "base_uri": "https://localhost:8080/"
        },
        "id": "hQi64ELN-AjE",
        "outputId": "50704a16-824f-4f30-ad6d-ac5370364b8b"
      },
      "execution_count": 18,
      "outputs": [
        {
          "output_type": "stream",
          "name": "stderr",
          "text": [
            "/usr/local/lib/python3.7/dist-packages/ipykernel_launcher.py:1: FutureWarning: The default value of regex will change from True to False in a future version.\n",
            "  \"\"\"Entry point for launching an IPython kernel.\n"
          ]
        }
      ]
    },
    {
      "cell_type": "code",
      "source": [
        "from nltk.corpus import stopwords\n",
        "nltk.download('stopwords')\n",
        "stopwords_set = set(stopwords.words(\"english\"))\n",
        "cleaned_tweets = []\n",
        "\n",
        "for index, row in tweets_df.iterrows():\n",
        "    \n",
        "    # filerting out all the stopwords \n",
        "    words_without_stopwords = [word for word in row.absolute_tidy_tweets.split() if not word in stopwords_set]\n",
        "    \n",
        "    # finally creating tweets list of tuples containing stopwords(list) and sentimentType \n",
        "    cleaned_tweets.append(' '.join(words_without_stopwords))\n",
        "\n",
        "tweets_df['absolute_tidy_tweets'] = cleaned_tweets"
      ],
      "metadata": {
        "colab": {
          "base_uri": "https://localhost:8080/"
        },
        "id": "W5Aa3taT-C4s",
        "outputId": "5b676554-2568-4f2b-b22b-1bd772b9265f"
      },
      "execution_count": 19,
      "outputs": [
        {
          "output_type": "stream",
          "name": "stdout",
          "text": [
            "[nltk_data] Downloading package stopwords to /root/nltk_data...\n",
            "[nltk_data]   Unzipping corpora/stopwords.zip.\n"
          ]
        }
      ]
    },
    {
      "cell_type": "code",
      "source": [
        "import nltk\n",
        "\n",
        "nltk.download('all')"
      ],
      "metadata": {
        "colab": {
          "base_uri": "https://localhost:8080/"
        },
        "id": "nkaykBxJ-WrM",
        "outputId": "42f17875-35fe-4d90-f728-f88d3798b4af"
      },
      "execution_count": 20,
      "outputs": [
        {
          "output_type": "stream",
          "name": "stdout",
          "text": [
            "[nltk_data] Downloading collection 'all'\n",
            "[nltk_data]    | \n",
            "[nltk_data]    | Downloading package abc to /root/nltk_data...\n",
            "[nltk_data]    |   Unzipping corpora/abc.zip.\n",
            "[nltk_data]    | Downloading package alpino to /root/nltk_data...\n",
            "[nltk_data]    |   Unzipping corpora/alpino.zip.\n",
            "[nltk_data]    | Downloading package averaged_perceptron_tagger to\n",
            "[nltk_data]    |     /root/nltk_data...\n",
            "[nltk_data]    |   Unzipping taggers/averaged_perceptron_tagger.zip.\n",
            "[nltk_data]    | Downloading package averaged_perceptron_tagger_ru to\n",
            "[nltk_data]    |     /root/nltk_data...\n",
            "[nltk_data]    |   Unzipping\n",
            "[nltk_data]    |       taggers/averaged_perceptron_tagger_ru.zip.\n",
            "[nltk_data]    | Downloading package basque_grammars to\n",
            "[nltk_data]    |     /root/nltk_data...\n",
            "[nltk_data]    |   Unzipping grammars/basque_grammars.zip.\n",
            "[nltk_data]    | Downloading package biocreative_ppi to\n",
            "[nltk_data]    |     /root/nltk_data...\n",
            "[nltk_data]    |   Unzipping corpora/biocreative_ppi.zip.\n",
            "[nltk_data]    | Downloading package bllip_wsj_no_aux to\n",
            "[nltk_data]    |     /root/nltk_data...\n",
            "[nltk_data]    |   Unzipping models/bllip_wsj_no_aux.zip.\n",
            "[nltk_data]    | Downloading package book_grammars to\n",
            "[nltk_data]    |     /root/nltk_data...\n",
            "[nltk_data]    |   Unzipping grammars/book_grammars.zip.\n",
            "[nltk_data]    | Downloading package brown to /root/nltk_data...\n",
            "[nltk_data]    |   Unzipping corpora/brown.zip.\n",
            "[nltk_data]    | Downloading package brown_tei to /root/nltk_data...\n",
            "[nltk_data]    |   Unzipping corpora/brown_tei.zip.\n",
            "[nltk_data]    | Downloading package cess_cat to /root/nltk_data...\n",
            "[nltk_data]    |   Unzipping corpora/cess_cat.zip.\n",
            "[nltk_data]    | Downloading package cess_esp to /root/nltk_data...\n",
            "[nltk_data]    |   Unzipping corpora/cess_esp.zip.\n",
            "[nltk_data]    | Downloading package chat80 to /root/nltk_data...\n",
            "[nltk_data]    |   Unzipping corpora/chat80.zip.\n",
            "[nltk_data]    | Downloading package city_database to\n",
            "[nltk_data]    |     /root/nltk_data...\n",
            "[nltk_data]    |   Unzipping corpora/city_database.zip.\n",
            "[nltk_data]    | Downloading package cmudict to /root/nltk_data...\n",
            "[nltk_data]    |   Unzipping corpora/cmudict.zip.\n",
            "[nltk_data]    | Downloading package comparative_sentences to\n",
            "[nltk_data]    |     /root/nltk_data...\n",
            "[nltk_data]    |   Unzipping corpora/comparative_sentences.zip.\n",
            "[nltk_data]    | Downloading package comtrans to /root/nltk_data...\n",
            "[nltk_data]    | Downloading package conll2000 to /root/nltk_data...\n",
            "[nltk_data]    |   Unzipping corpora/conll2000.zip.\n",
            "[nltk_data]    | Downloading package conll2002 to /root/nltk_data...\n",
            "[nltk_data]    |   Unzipping corpora/conll2002.zip.\n",
            "[nltk_data]    | Downloading package conll2007 to /root/nltk_data...\n",
            "[nltk_data]    | Downloading package crubadan to /root/nltk_data...\n",
            "[nltk_data]    |   Unzipping corpora/crubadan.zip.\n",
            "[nltk_data]    | Downloading package dependency_treebank to\n",
            "[nltk_data]    |     /root/nltk_data...\n",
            "[nltk_data]    |   Unzipping corpora/dependency_treebank.zip.\n",
            "[nltk_data]    | Downloading package dolch to /root/nltk_data...\n",
            "[nltk_data]    |   Unzipping corpora/dolch.zip.\n",
            "[nltk_data]    | Downloading package europarl_raw to\n",
            "[nltk_data]    |     /root/nltk_data...\n",
            "[nltk_data]    |   Unzipping corpora/europarl_raw.zip.\n",
            "[nltk_data]    | Downloading package extended_omw to\n",
            "[nltk_data]    |     /root/nltk_data...\n",
            "[nltk_data]    |   Unzipping corpora/extended_omw.zip.\n",
            "[nltk_data]    | Downloading package floresta to /root/nltk_data...\n",
            "[nltk_data]    |   Unzipping corpora/floresta.zip.\n",
            "[nltk_data]    | Downloading package framenet_v15 to\n",
            "[nltk_data]    |     /root/nltk_data...\n",
            "[nltk_data]    |   Unzipping corpora/framenet_v15.zip.\n",
            "[nltk_data]    | Downloading package framenet_v17 to\n",
            "[nltk_data]    |     /root/nltk_data...\n",
            "[nltk_data]    |   Unzipping corpora/framenet_v17.zip.\n",
            "[nltk_data]    | Downloading package gazetteers to /root/nltk_data...\n",
            "[nltk_data]    |   Unzipping corpora/gazetteers.zip.\n",
            "[nltk_data]    | Downloading package genesis to /root/nltk_data...\n",
            "[nltk_data]    |   Unzipping corpora/genesis.zip.\n",
            "[nltk_data]    | Downloading package gutenberg to /root/nltk_data...\n",
            "[nltk_data]    |   Unzipping corpora/gutenberg.zip.\n",
            "[nltk_data]    | Downloading package ieer to /root/nltk_data...\n",
            "[nltk_data]    |   Unzipping corpora/ieer.zip.\n",
            "[nltk_data]    | Downloading package inaugural to /root/nltk_data...\n",
            "[nltk_data]    |   Unzipping corpora/inaugural.zip.\n",
            "[nltk_data]    | Downloading package indian to /root/nltk_data...\n",
            "[nltk_data]    |   Unzipping corpora/indian.zip.\n",
            "[nltk_data]    | Downloading package jeita to /root/nltk_data...\n",
            "[nltk_data]    | Downloading package kimmo to /root/nltk_data...\n",
            "[nltk_data]    |   Unzipping corpora/kimmo.zip.\n",
            "[nltk_data]    | Downloading package knbc to /root/nltk_data...\n",
            "[nltk_data]    | Downloading package large_grammars to\n",
            "[nltk_data]    |     /root/nltk_data...\n",
            "[nltk_data]    |   Unzipping grammars/large_grammars.zip.\n",
            "[nltk_data]    | Downloading package lin_thesaurus to\n",
            "[nltk_data]    |     /root/nltk_data...\n",
            "[nltk_data]    |   Unzipping corpora/lin_thesaurus.zip.\n",
            "[nltk_data]    | Downloading package mac_morpho to /root/nltk_data...\n",
            "[nltk_data]    |   Unzipping corpora/mac_morpho.zip.\n",
            "[nltk_data]    | Downloading package machado to /root/nltk_data...\n",
            "[nltk_data]    | Downloading package masc_tagged to /root/nltk_data...\n",
            "[nltk_data]    | Downloading package maxent_ne_chunker to\n",
            "[nltk_data]    |     /root/nltk_data...\n",
            "[nltk_data]    |   Unzipping chunkers/maxent_ne_chunker.zip.\n",
            "[nltk_data]    | Downloading package maxent_treebank_pos_tagger to\n",
            "[nltk_data]    |     /root/nltk_data...\n",
            "[nltk_data]    |   Unzipping taggers/maxent_treebank_pos_tagger.zip.\n",
            "[nltk_data]    | Downloading package moses_sample to\n",
            "[nltk_data]    |     /root/nltk_data...\n",
            "[nltk_data]    |   Unzipping models/moses_sample.zip.\n",
            "[nltk_data]    | Downloading package movie_reviews to\n",
            "[nltk_data]    |     /root/nltk_data...\n",
            "[nltk_data]    |   Unzipping corpora/movie_reviews.zip.\n",
            "[nltk_data]    | Downloading package mte_teip5 to /root/nltk_data...\n",
            "[nltk_data]    |   Unzipping corpora/mte_teip5.zip.\n",
            "[nltk_data]    | Downloading package mwa_ppdb to /root/nltk_data...\n",
            "[nltk_data]    |   Unzipping misc/mwa_ppdb.zip.\n",
            "[nltk_data]    | Downloading package names to /root/nltk_data...\n",
            "[nltk_data]    |   Unzipping corpora/names.zip.\n",
            "[nltk_data]    | Downloading package nombank.1.0 to /root/nltk_data...\n",
            "[nltk_data]    | Downloading package nonbreaking_prefixes to\n",
            "[nltk_data]    |     /root/nltk_data...\n",
            "[nltk_data]    |   Unzipping corpora/nonbreaking_prefixes.zip.\n",
            "[nltk_data]    | Downloading package nps_chat to /root/nltk_data...\n",
            "[nltk_data]    |   Unzipping corpora/nps_chat.zip.\n",
            "[nltk_data]    | Downloading package omw to /root/nltk_data...\n",
            "[nltk_data]    |   Unzipping corpora/omw.zip.\n",
            "[nltk_data]    | Downloading package omw-1.4 to /root/nltk_data...\n",
            "[nltk_data]    |   Unzipping corpora/omw-1.4.zip.\n",
            "[nltk_data]    | Downloading package opinion_lexicon to\n",
            "[nltk_data]    |     /root/nltk_data...\n",
            "[nltk_data]    |   Unzipping corpora/opinion_lexicon.zip.\n",
            "[nltk_data]    | Downloading package panlex_swadesh to\n",
            "[nltk_data]    |     /root/nltk_data...\n",
            "[nltk_data]    | Downloading package paradigms to /root/nltk_data...\n",
            "[nltk_data]    |   Unzipping corpora/paradigms.zip.\n",
            "[nltk_data]    | Downloading package pe08 to /root/nltk_data...\n",
            "[nltk_data]    |   Unzipping corpora/pe08.zip.\n",
            "[nltk_data]    | Downloading package perluniprops to\n",
            "[nltk_data]    |     /root/nltk_data...\n",
            "[nltk_data]    |   Unzipping misc/perluniprops.zip.\n",
            "[nltk_data]    | Downloading package pil to /root/nltk_data...\n",
            "[nltk_data]    |   Unzipping corpora/pil.zip.\n",
            "[nltk_data]    | Downloading package pl196x to /root/nltk_data...\n",
            "[nltk_data]    |   Unzipping corpora/pl196x.zip.\n",
            "[nltk_data]    | Downloading package porter_test to /root/nltk_data...\n",
            "[nltk_data]    |   Unzipping stemmers/porter_test.zip.\n",
            "[nltk_data]    | Downloading package ppattach to /root/nltk_data...\n",
            "[nltk_data]    |   Unzipping corpora/ppattach.zip.\n",
            "[nltk_data]    | Downloading package problem_reports to\n",
            "[nltk_data]    |     /root/nltk_data...\n",
            "[nltk_data]    |   Unzipping corpora/problem_reports.zip.\n",
            "[nltk_data]    | Downloading package product_reviews_1 to\n",
            "[nltk_data]    |     /root/nltk_data...\n",
            "[nltk_data]    |   Unzipping corpora/product_reviews_1.zip.\n",
            "[nltk_data]    | Downloading package product_reviews_2 to\n",
            "[nltk_data]    |     /root/nltk_data...\n",
            "[nltk_data]    |   Unzipping corpora/product_reviews_2.zip.\n",
            "[nltk_data]    | Downloading package propbank to /root/nltk_data...\n",
            "[nltk_data]    | Downloading package pros_cons to /root/nltk_data...\n",
            "[nltk_data]    |   Unzipping corpora/pros_cons.zip.\n",
            "[nltk_data]    | Downloading package ptb to /root/nltk_data...\n",
            "[nltk_data]    |   Unzipping corpora/ptb.zip.\n",
            "[nltk_data]    | Downloading package punkt to /root/nltk_data...\n",
            "[nltk_data]    |   Unzipping tokenizers/punkt.zip.\n",
            "[nltk_data]    | Downloading package qc to /root/nltk_data...\n",
            "[nltk_data]    |   Unzipping corpora/qc.zip.\n",
            "[nltk_data]    | Downloading package reuters to /root/nltk_data...\n",
            "[nltk_data]    | Downloading package rslp to /root/nltk_data...\n",
            "[nltk_data]    |   Unzipping stemmers/rslp.zip.\n",
            "[nltk_data]    | Downloading package rte to /root/nltk_data...\n",
            "[nltk_data]    |   Unzipping corpora/rte.zip.\n",
            "[nltk_data]    | Downloading package sample_grammars to\n",
            "[nltk_data]    |     /root/nltk_data...\n",
            "[nltk_data]    |   Unzipping grammars/sample_grammars.zip.\n",
            "[nltk_data]    | Downloading package semcor to /root/nltk_data...\n",
            "[nltk_data]    | Downloading package senseval to /root/nltk_data...\n",
            "[nltk_data]    |   Unzipping corpora/senseval.zip.\n",
            "[nltk_data]    | Downloading package sentence_polarity to\n",
            "[nltk_data]    |     /root/nltk_data...\n",
            "[nltk_data]    |   Unzipping corpora/sentence_polarity.zip.\n",
            "[nltk_data]    | Downloading package sentiwordnet to\n",
            "[nltk_data]    |     /root/nltk_data...\n",
            "[nltk_data]    |   Unzipping corpora/sentiwordnet.zip.\n",
            "[nltk_data]    | Downloading package shakespeare to /root/nltk_data...\n",
            "[nltk_data]    |   Unzipping corpora/shakespeare.zip.\n",
            "[nltk_data]    | Downloading package sinica_treebank to\n",
            "[nltk_data]    |     /root/nltk_data...\n",
            "[nltk_data]    |   Unzipping corpora/sinica_treebank.zip.\n",
            "[nltk_data]    | Downloading package smultron to /root/nltk_data...\n",
            "[nltk_data]    |   Unzipping corpora/smultron.zip.\n",
            "[nltk_data]    | Downloading package snowball_data to\n",
            "[nltk_data]    |     /root/nltk_data...\n",
            "[nltk_data]    | Downloading package spanish_grammars to\n",
            "[nltk_data]    |     /root/nltk_data...\n",
            "[nltk_data]    |   Unzipping grammars/spanish_grammars.zip.\n",
            "[nltk_data]    | Downloading package state_union to /root/nltk_data...\n",
            "[nltk_data]    |   Unzipping corpora/state_union.zip.\n",
            "[nltk_data]    | Downloading package stopwords to /root/nltk_data...\n",
            "[nltk_data]    |   Package stopwords is already up-to-date!\n",
            "[nltk_data]    | Downloading package subjectivity to\n",
            "[nltk_data]    |     /root/nltk_data...\n",
            "[nltk_data]    |   Unzipping corpora/subjectivity.zip.\n",
            "[nltk_data]    | Downloading package swadesh to /root/nltk_data...\n",
            "[nltk_data]    |   Unzipping corpora/swadesh.zip.\n",
            "[nltk_data]    | Downloading package switchboard to /root/nltk_data...\n",
            "[nltk_data]    |   Unzipping corpora/switchboard.zip.\n",
            "[nltk_data]    | Downloading package tagsets to /root/nltk_data...\n",
            "[nltk_data]    |   Unzipping help/tagsets.zip.\n",
            "[nltk_data]    | Downloading package timit to /root/nltk_data...\n",
            "[nltk_data]    |   Unzipping corpora/timit.zip.\n",
            "[nltk_data]    | Downloading package toolbox to /root/nltk_data...\n",
            "[nltk_data]    |   Unzipping corpora/toolbox.zip.\n",
            "[nltk_data]    | Downloading package treebank to /root/nltk_data...\n",
            "[nltk_data]    |   Unzipping corpora/treebank.zip.\n",
            "[nltk_data]    | Downloading package twitter_samples to\n",
            "[nltk_data]    |     /root/nltk_data...\n",
            "[nltk_data]    |   Unzipping corpora/twitter_samples.zip.\n",
            "[nltk_data]    | Downloading package udhr to /root/nltk_data...\n",
            "[nltk_data]    |   Unzipping corpora/udhr.zip.\n",
            "[nltk_data]    | Downloading package udhr2 to /root/nltk_data...\n",
            "[nltk_data]    |   Unzipping corpora/udhr2.zip.\n",
            "[nltk_data]    | Downloading package unicode_samples to\n",
            "[nltk_data]    |     /root/nltk_data...\n",
            "[nltk_data]    |   Unzipping corpora/unicode_samples.zip.\n",
            "[nltk_data]    | Downloading package universal_tagset to\n",
            "[nltk_data]    |     /root/nltk_data...\n",
            "[nltk_data]    |   Unzipping taggers/universal_tagset.zip.\n",
            "[nltk_data]    | Downloading package universal_treebanks_v20 to\n",
            "[nltk_data]    |     /root/nltk_data...\n",
            "[nltk_data]    | Downloading package vader_lexicon to\n",
            "[nltk_data]    |     /root/nltk_data...\n",
            "[nltk_data]    | Downloading package verbnet to /root/nltk_data...\n",
            "[nltk_data]    |   Unzipping corpora/verbnet.zip.\n",
            "[nltk_data]    | Downloading package verbnet3 to /root/nltk_data...\n",
            "[nltk_data]    |   Unzipping corpora/verbnet3.zip.\n",
            "[nltk_data]    | Downloading package webtext to /root/nltk_data...\n",
            "[nltk_data]    |   Unzipping corpora/webtext.zip.\n",
            "[nltk_data]    | Downloading package wmt15_eval to /root/nltk_data...\n",
            "[nltk_data]    |   Unzipping models/wmt15_eval.zip.\n",
            "[nltk_data]    | Downloading package word2vec_sample to\n",
            "[nltk_data]    |     /root/nltk_data...\n",
            "[nltk_data]    |   Unzipping models/word2vec_sample.zip.\n",
            "[nltk_data]    | Downloading package wordnet to /root/nltk_data...\n",
            "[nltk_data]    |   Unzipping corpora/wordnet.zip.\n",
            "[nltk_data]    | Downloading package wordnet2021 to /root/nltk_data...\n",
            "[nltk_data]    |   Unzipping corpora/wordnet2021.zip.\n",
            "[nltk_data]    | Downloading package wordnet31 to /root/nltk_data...\n",
            "[nltk_data]    |   Unzipping corpora/wordnet31.zip.\n",
            "[nltk_data]    | Downloading package wordnet_ic to /root/nltk_data...\n",
            "[nltk_data]    |   Unzipping corpora/wordnet_ic.zip.\n",
            "[nltk_data]    | Downloading package words to /root/nltk_data...\n",
            "[nltk_data]    |   Unzipping corpora/words.zip.\n",
            "[nltk_data]    | Downloading package ycoe to /root/nltk_data...\n",
            "[nltk_data]    |   Unzipping corpora/ycoe.zip.\n",
            "[nltk_data]    | \n",
            "[nltk_data]  Done downloading collection all\n"
          ]
        },
        {
          "output_type": "execute_result",
          "data": {
            "text/plain": [
              "True"
            ]
          },
          "metadata": {},
          "execution_count": 20
        }
      ]
    },
    {
      "cell_type": "code",
      "source": [
        "from nltk.stem import WordNetLemmatizer\n",
        "# Tokenization\n",
        "tokenized_tweet = tweets_df['absolute_tidy_tweets'].apply(lambda x: x.split())\n",
        "# Finding Lemma for each word\n",
        "word_lemmatizer = WordNetLemmatizer()\n",
        "tokenized_tweet = tokenized_tweet.apply(lambda x: [word_lemmatizer.lemmatize(i) for i in x])\n",
        "#joining words into sentences (from where they came from)\n",
        "for i, tokens in enumerate(tokenized_tweet):\n",
        "    tokenized_tweet[i] = ' '.join(tokens)\n",
        "\n",
        "tweets_df['absolute_tidy_tweets'] = tokenized_tweet"
      ],
      "metadata": {
        "id": "ev61fG99-HEu"
      },
      "execution_count": 21,
      "outputs": []
    },
    {
      "cell_type": "code",
      "source": [
        "tweets_df"
      ],
      "metadata": {
        "colab": {
          "base_uri": "https://localhost:8080/",
          "height": 624
        },
        "id": "oH0Eyq19-7rg",
        "outputId": "2aaaec35-4200-4e68-9506-8850e34da31c"
      },
      "execution_count": 22,
      "outputs": [
        {
          "output_type": "execute_result",
          "data": {
            "text/plain": [
              "                                                tweets  \\\n",
              "0    @ainunrozi pemaaf sih ak mah, cm ya gamau kena...   \n",
              "1    RT @Nyanfood: environment work for @isavtuber ...   \n",
              "2    RT @TRU_Lab: Fascinating book by #IanSanjayPat...   \n",
              "3    RT @FrancisSuarez: As someone who is pro #bitc...   \n",
              "4    RT @down_with_putin: @Nestle is one of the wor...   \n",
              "..                                                 ...   \n",
              "645  @SorexOrnatus \"Like a clam\" is a good metaphor...   \n",
              "646  It's starting to become a more analyzing situa...   \n",
              "647  RT @urbangridlock: Had a lovely afternoon at S...   \n",
              "648  @greenwoodPG1 @pelesburner Impossible to compa...   \n",
              "649  RT @tmsnbb: Joe Biden administration announces...   \n",
              "\n",
              "                                           tidy_tweets  \\\n",
              "0    @ainunrozi pemaaf sih ak mah, cm ya gamau kena...   \n",
              "1    environment work for @isavtuber figure art by ...   \n",
              "2    Fascinating book by #IanSanjayPatel of @bbkpsy...   \n",
              "3    As someone who is pro #bitcoin and cares about...   \n",
              "4    @Nestle is one of the worst companies in the w...   \n",
              "..                                                 ...   \n",
              "645  @SorexOrnatus \"Like a clam\" is a good metaphor...   \n",
              "646  It's starting to become a more analyzing situa...   \n",
              "647  Had a lovely afternoon at Spike Island. Great ...   \n",
              "648  @greenwoodPG1 @pelesburner Impossible to compa...   \n",
              "649  Joe Biden administration announces $3B to supp...   \n",
              "\n",
              "                                  absolute_tidy_tweets  \n",
              "0    ainunrozi pemaaf sih ak mah cm ya gamau kenal ...  \n",
              "1    environment work isavtuber figure art clay ysr...  \n",
              "2    Fascinating book #IanSanjayPatel bbkpsychosoci...  \n",
              "3    As someone pro #bitcoin care environment I urg...  \n",
              "4    Nestle one worst company world In addition pro...  \n",
              "..                                                 ...  \n",
              "645  SorexOrnatus Like clam good metaphor If shell ...  \n",
              "646  Its starting become analyzing situation Ventur...  \n",
              "647  Had lovely afternoon Spike Island Great see EA...  \n",
              "648  greenwoodPG pelesburner Impossible compare act...  \n",
              "649  Joe Biden administration announces B support E...  \n",
              "\n",
              "[650 rows x 3 columns]"
            ],
            "text/html": [
              "\n",
              "  <div id=\"df-9754034f-1f9f-425d-988f-96a777b7ac31\">\n",
              "    <div class=\"colab-df-container\">\n",
              "      <div>\n",
              "<style scoped>\n",
              "    .dataframe tbody tr th:only-of-type {\n",
              "        vertical-align: middle;\n",
              "    }\n",
              "\n",
              "    .dataframe tbody tr th {\n",
              "        vertical-align: top;\n",
              "    }\n",
              "\n",
              "    .dataframe thead th {\n",
              "        text-align: right;\n",
              "    }\n",
              "</style>\n",
              "<table border=\"1\" class=\"dataframe\">\n",
              "  <thead>\n",
              "    <tr style=\"text-align: right;\">\n",
              "      <th></th>\n",
              "      <th>tweets</th>\n",
              "      <th>tidy_tweets</th>\n",
              "      <th>absolute_tidy_tweets</th>\n",
              "    </tr>\n",
              "  </thead>\n",
              "  <tbody>\n",
              "    <tr>\n",
              "      <th>0</th>\n",
              "      <td>@ainunrozi pemaaf sih ak mah, cm ya gamau kena...</td>\n",
              "      <td>@ainunrozi pemaaf sih ak mah, cm ya gamau kena...</td>\n",
              "      <td>ainunrozi pemaaf sih ak mah cm ya gamau kenal ...</td>\n",
              "    </tr>\n",
              "    <tr>\n",
              "      <th>1</th>\n",
              "      <td>RT @Nyanfood: environment work for @isavtuber ...</td>\n",
              "      <td>environment work for @isavtuber figure art by ...</td>\n",
              "      <td>environment work isavtuber figure art clay ysr...</td>\n",
              "    </tr>\n",
              "    <tr>\n",
              "      <th>2</th>\n",
              "      <td>RT @TRU_Lab: Fascinating book by #IanSanjayPat...</td>\n",
              "      <td>Fascinating book by #IanSanjayPatel of @bbkpsy...</td>\n",
              "      <td>Fascinating book #IanSanjayPatel bbkpsychosoci...</td>\n",
              "    </tr>\n",
              "    <tr>\n",
              "      <th>3</th>\n",
              "      <td>RT @FrancisSuarez: As someone who is pro #bitc...</td>\n",
              "      <td>As someone who is pro #bitcoin and cares about...</td>\n",
              "      <td>As someone pro #bitcoin care environment I urg...</td>\n",
              "    </tr>\n",
              "    <tr>\n",
              "      <th>4</th>\n",
              "      <td>RT @down_with_putin: @Nestle is one of the wor...</td>\n",
              "      <td>@Nestle is one of the worst companies in the w...</td>\n",
              "      <td>Nestle one worst company world In addition pro...</td>\n",
              "    </tr>\n",
              "    <tr>\n",
              "      <th>...</th>\n",
              "      <td>...</td>\n",
              "      <td>...</td>\n",
              "      <td>...</td>\n",
              "    </tr>\n",
              "    <tr>\n",
              "      <th>645</th>\n",
              "      <td>@SorexOrnatus \"Like a clam\" is a good metaphor...</td>\n",
              "      <td>@SorexOrnatus \"Like a clam\" is a good metaphor...</td>\n",
              "      <td>SorexOrnatus Like clam good metaphor If shell ...</td>\n",
              "    </tr>\n",
              "    <tr>\n",
              "      <th>646</th>\n",
              "      <td>It's starting to become a more analyzing situa...</td>\n",
              "      <td>It's starting to become a more analyzing situa...</td>\n",
              "      <td>Its starting become analyzing situation Ventur...</td>\n",
              "    </tr>\n",
              "    <tr>\n",
              "      <th>647</th>\n",
              "      <td>RT @urbangridlock: Had a lovely afternoon at S...</td>\n",
              "      <td>Had a lovely afternoon at Spike Island. Great ...</td>\n",
              "      <td>Had lovely afternoon Spike Island Great see EA...</td>\n",
              "    </tr>\n",
              "    <tr>\n",
              "      <th>648</th>\n",
              "      <td>@greenwoodPG1 @pelesburner Impossible to compa...</td>\n",
              "      <td>@greenwoodPG1 @pelesburner Impossible to compa...</td>\n",
              "      <td>greenwoodPG pelesburner Impossible compare act...</td>\n",
              "    </tr>\n",
              "    <tr>\n",
              "      <th>649</th>\n",
              "      <td>RT @tmsnbb: Joe Biden administration announces...</td>\n",
              "      <td>Joe Biden administration announces $3B to supp...</td>\n",
              "      <td>Joe Biden administration announces B support E...</td>\n",
              "    </tr>\n",
              "  </tbody>\n",
              "</table>\n",
              "<p>650 rows × 3 columns</p>\n",
              "</div>\n",
              "      <button class=\"colab-df-convert\" onclick=\"convertToInteractive('df-9754034f-1f9f-425d-988f-96a777b7ac31')\"\n",
              "              title=\"Convert this dataframe to an interactive table.\"\n",
              "              style=\"display:none;\">\n",
              "        \n",
              "  <svg xmlns=\"http://www.w3.org/2000/svg\" height=\"24px\"viewBox=\"0 0 24 24\"\n",
              "       width=\"24px\">\n",
              "    <path d=\"M0 0h24v24H0V0z\" fill=\"none\"/>\n",
              "    <path d=\"M18.56 5.44l.94 2.06.94-2.06 2.06-.94-2.06-.94-.94-2.06-.94 2.06-2.06.94zm-11 1L8.5 8.5l.94-2.06 2.06-.94-2.06-.94L8.5 2.5l-.94 2.06-2.06.94zm10 10l.94 2.06.94-2.06 2.06-.94-2.06-.94-.94-2.06-.94 2.06-2.06.94z\"/><path d=\"M17.41 7.96l-1.37-1.37c-.4-.4-.92-.59-1.43-.59-.52 0-1.04.2-1.43.59L10.3 9.45l-7.72 7.72c-.78.78-.78 2.05 0 2.83L4 21.41c.39.39.9.59 1.41.59.51 0 1.02-.2 1.41-.59l7.78-7.78 2.81-2.81c.8-.78.8-2.07 0-2.86zM5.41 20L4 18.59l7.72-7.72 1.47 1.35L5.41 20z\"/>\n",
              "  </svg>\n",
              "      </button>\n",
              "      \n",
              "  <style>\n",
              "    .colab-df-container {\n",
              "      display:flex;\n",
              "      flex-wrap:wrap;\n",
              "      gap: 12px;\n",
              "    }\n",
              "\n",
              "    .colab-df-convert {\n",
              "      background-color: #E8F0FE;\n",
              "      border: none;\n",
              "      border-radius: 50%;\n",
              "      cursor: pointer;\n",
              "      display: none;\n",
              "      fill: #1967D2;\n",
              "      height: 32px;\n",
              "      padding: 0 0 0 0;\n",
              "      width: 32px;\n",
              "    }\n",
              "\n",
              "    .colab-df-convert:hover {\n",
              "      background-color: #E2EBFA;\n",
              "      box-shadow: 0px 1px 2px rgba(60, 64, 67, 0.3), 0px 1px 3px 1px rgba(60, 64, 67, 0.15);\n",
              "      fill: #174EA6;\n",
              "    }\n",
              "\n",
              "    [theme=dark] .colab-df-convert {\n",
              "      background-color: #3B4455;\n",
              "      fill: #D2E3FC;\n",
              "    }\n",
              "\n",
              "    [theme=dark] .colab-df-convert:hover {\n",
              "      background-color: #434B5C;\n",
              "      box-shadow: 0px 1px 3px 1px rgba(0, 0, 0, 0.15);\n",
              "      filter: drop-shadow(0px 1px 2px rgba(0, 0, 0, 0.3));\n",
              "      fill: #FFFFFF;\n",
              "    }\n",
              "  </style>\n",
              "\n",
              "      <script>\n",
              "        const buttonEl =\n",
              "          document.querySelector('#df-9754034f-1f9f-425d-988f-96a777b7ac31 button.colab-df-convert');\n",
              "        buttonEl.style.display =\n",
              "          google.colab.kernel.accessAllowed ? 'block' : 'none';\n",
              "\n",
              "        async function convertToInteractive(key) {\n",
              "          const element = document.querySelector('#df-9754034f-1f9f-425d-988f-96a777b7ac31');\n",
              "          const dataTable =\n",
              "            await google.colab.kernel.invokeFunction('convertToInteractive',\n",
              "                                                     [key], {});\n",
              "          if (!dataTable) return;\n",
              "\n",
              "          const docLinkHtml = 'Like what you see? Visit the ' +\n",
              "            '<a target=\"_blank\" href=https://colab.research.google.com/notebooks/data_table.ipynb>data table notebook</a>'\n",
              "            + ' to learn more about interactive tables.';\n",
              "          element.innerHTML = '';\n",
              "          dataTable['output_type'] = 'display_data';\n",
              "          await google.colab.output.renderOutput(dataTable, element);\n",
              "          const docLink = document.createElement('div');\n",
              "          docLink.innerHTML = docLinkHtml;\n",
              "          element.appendChild(docLink);\n",
              "        }\n",
              "      </script>\n",
              "    </div>\n",
              "  </div>\n",
              "  "
            ]
          },
          "metadata": {},
          "execution_count": 22
        }
      ]
    },
    {
      "cell_type": "code",
      "source": [
        "from sklearn.feature_extraction.text import CountVectorizer, TfidfVectorizer\n",
        "# BOW features\n",
        "bow_word_vectorizer = CountVectorizer(max_df=0.90, min_df=2, stop_words='english', max_features=50)\n",
        "# bag-of-words feature matrix\n",
        "bow_word_feature = bow_word_vectorizer.fit_transform(tweets_df['absolute_tidy_tweets'])\n",
        "\n",
        "# TF-IDF features\n",
        "tfidf_word_vectorizer = TfidfVectorizer(max_df=0.90, min_df=2, stop_words='english', max_features=50)\n",
        "# TF-IDF feature matrix\n",
        "tfidf_word_feature = tfidf_word_vectorizer.fit_transform(tweets_df['absolute_tidy_tweets'])"
      ],
      "metadata": {
        "id": "6uvlG4Ud-Kmz"
      },
      "execution_count": 23,
      "outputs": []
    },
    {
      "cell_type": "code",
      "source": [
        "bow_word_feature"
      ],
      "metadata": {
        "colab": {
          "base_uri": "https://localhost:8080/"
        },
        "id": "gpJUMj-XwWhX",
        "outputId": "416003b0-1443-43e2-c12b-07a4d45a4898"
      },
      "execution_count": 24,
      "outputs": [
        {
          "output_type": "execute_result",
          "data": {
            "text/plain": [
              "<650x50 sparse matrix of type '<class 'numpy.int64'>'\n",
              "\twith 977 stored elements in Compressed Sparse Row format>"
            ]
          },
          "metadata": {},
          "execution_count": 24
        }
      ]
    },
    {
      "cell_type": "code",
      "source": [
        "tweets_df"
      ],
      "metadata": {
        "colab": {
          "base_uri": "https://localhost:8080/",
          "height": 624
        },
        "id": "9tejpJO2--6A",
        "outputId": "dc58267c-32d0-4898-9261-a8a48a50c779"
      },
      "execution_count": 25,
      "outputs": [
        {
          "output_type": "execute_result",
          "data": {
            "text/plain": [
              "                                                tweets  \\\n",
              "0    @ainunrozi pemaaf sih ak mah, cm ya gamau kena...   \n",
              "1    RT @Nyanfood: environment work for @isavtuber ...   \n",
              "2    RT @TRU_Lab: Fascinating book by #IanSanjayPat...   \n",
              "3    RT @FrancisSuarez: As someone who is pro #bitc...   \n",
              "4    RT @down_with_putin: @Nestle is one of the wor...   \n",
              "..                                                 ...   \n",
              "645  @SorexOrnatus \"Like a clam\" is a good metaphor...   \n",
              "646  It's starting to become a more analyzing situa...   \n",
              "647  RT @urbangridlock: Had a lovely afternoon at S...   \n",
              "648  @greenwoodPG1 @pelesburner Impossible to compa...   \n",
              "649  RT @tmsnbb: Joe Biden administration announces...   \n",
              "\n",
              "                                           tidy_tweets  \\\n",
              "0    @ainunrozi pemaaf sih ak mah, cm ya gamau kena...   \n",
              "1    environment work for @isavtuber figure art by ...   \n",
              "2    Fascinating book by #IanSanjayPatel of @bbkpsy...   \n",
              "3    As someone who is pro #bitcoin and cares about...   \n",
              "4    @Nestle is one of the worst companies in the w...   \n",
              "..                                                 ...   \n",
              "645  @SorexOrnatus \"Like a clam\" is a good metaphor...   \n",
              "646  It's starting to become a more analyzing situa...   \n",
              "647  Had a lovely afternoon at Spike Island. Great ...   \n",
              "648  @greenwoodPG1 @pelesburner Impossible to compa...   \n",
              "649  Joe Biden administration announces $3B to supp...   \n",
              "\n",
              "                                  absolute_tidy_tweets  \n",
              "0    ainunrozi pemaaf sih ak mah cm ya gamau kenal ...  \n",
              "1    environment work isavtuber figure art clay ysr...  \n",
              "2    Fascinating book #IanSanjayPatel bbkpsychosoci...  \n",
              "3    As someone pro #bitcoin care environment I urg...  \n",
              "4    Nestle one worst company world In addition pro...  \n",
              "..                                                 ...  \n",
              "645  SorexOrnatus Like clam good metaphor If shell ...  \n",
              "646  Its starting become analyzing situation Ventur...  \n",
              "647  Had lovely afternoon Spike Island Great see EA...  \n",
              "648  greenwoodPG pelesburner Impossible compare act...  \n",
              "649  Joe Biden administration announces B support E...  \n",
              "\n",
              "[650 rows x 3 columns]"
            ],
            "text/html": [
              "\n",
              "  <div id=\"df-9d939378-b016-4966-a383-2265c9a2e3e8\">\n",
              "    <div class=\"colab-df-container\">\n",
              "      <div>\n",
              "<style scoped>\n",
              "    .dataframe tbody tr th:only-of-type {\n",
              "        vertical-align: middle;\n",
              "    }\n",
              "\n",
              "    .dataframe tbody tr th {\n",
              "        vertical-align: top;\n",
              "    }\n",
              "\n",
              "    .dataframe thead th {\n",
              "        text-align: right;\n",
              "    }\n",
              "</style>\n",
              "<table border=\"1\" class=\"dataframe\">\n",
              "  <thead>\n",
              "    <tr style=\"text-align: right;\">\n",
              "      <th></th>\n",
              "      <th>tweets</th>\n",
              "      <th>tidy_tweets</th>\n",
              "      <th>absolute_tidy_tweets</th>\n",
              "    </tr>\n",
              "  </thead>\n",
              "  <tbody>\n",
              "    <tr>\n",
              "      <th>0</th>\n",
              "      <td>@ainunrozi pemaaf sih ak mah, cm ya gamau kena...</td>\n",
              "      <td>@ainunrozi pemaaf sih ak mah, cm ya gamau kena...</td>\n",
              "      <td>ainunrozi pemaaf sih ak mah cm ya gamau kenal ...</td>\n",
              "    </tr>\n",
              "    <tr>\n",
              "      <th>1</th>\n",
              "      <td>RT @Nyanfood: environment work for @isavtuber ...</td>\n",
              "      <td>environment work for @isavtuber figure art by ...</td>\n",
              "      <td>environment work isavtuber figure art clay ysr...</td>\n",
              "    </tr>\n",
              "    <tr>\n",
              "      <th>2</th>\n",
              "      <td>RT @TRU_Lab: Fascinating book by #IanSanjayPat...</td>\n",
              "      <td>Fascinating book by #IanSanjayPatel of @bbkpsy...</td>\n",
              "      <td>Fascinating book #IanSanjayPatel bbkpsychosoci...</td>\n",
              "    </tr>\n",
              "    <tr>\n",
              "      <th>3</th>\n",
              "      <td>RT @FrancisSuarez: As someone who is pro #bitc...</td>\n",
              "      <td>As someone who is pro #bitcoin and cares about...</td>\n",
              "      <td>As someone pro #bitcoin care environment I urg...</td>\n",
              "    </tr>\n",
              "    <tr>\n",
              "      <th>4</th>\n",
              "      <td>RT @down_with_putin: @Nestle is one of the wor...</td>\n",
              "      <td>@Nestle is one of the worst companies in the w...</td>\n",
              "      <td>Nestle one worst company world In addition pro...</td>\n",
              "    </tr>\n",
              "    <tr>\n",
              "      <th>...</th>\n",
              "      <td>...</td>\n",
              "      <td>...</td>\n",
              "      <td>...</td>\n",
              "    </tr>\n",
              "    <tr>\n",
              "      <th>645</th>\n",
              "      <td>@SorexOrnatus \"Like a clam\" is a good metaphor...</td>\n",
              "      <td>@SorexOrnatus \"Like a clam\" is a good metaphor...</td>\n",
              "      <td>SorexOrnatus Like clam good metaphor If shell ...</td>\n",
              "    </tr>\n",
              "    <tr>\n",
              "      <th>646</th>\n",
              "      <td>It's starting to become a more analyzing situa...</td>\n",
              "      <td>It's starting to become a more analyzing situa...</td>\n",
              "      <td>Its starting become analyzing situation Ventur...</td>\n",
              "    </tr>\n",
              "    <tr>\n",
              "      <th>647</th>\n",
              "      <td>RT @urbangridlock: Had a lovely afternoon at S...</td>\n",
              "      <td>Had a lovely afternoon at Spike Island. Great ...</td>\n",
              "      <td>Had lovely afternoon Spike Island Great see EA...</td>\n",
              "    </tr>\n",
              "    <tr>\n",
              "      <th>648</th>\n",
              "      <td>@greenwoodPG1 @pelesburner Impossible to compa...</td>\n",
              "      <td>@greenwoodPG1 @pelesburner Impossible to compa...</td>\n",
              "      <td>greenwoodPG pelesburner Impossible compare act...</td>\n",
              "    </tr>\n",
              "    <tr>\n",
              "      <th>649</th>\n",
              "      <td>RT @tmsnbb: Joe Biden administration announces...</td>\n",
              "      <td>Joe Biden administration announces $3B to supp...</td>\n",
              "      <td>Joe Biden administration announces B support E...</td>\n",
              "    </tr>\n",
              "  </tbody>\n",
              "</table>\n",
              "<p>650 rows × 3 columns</p>\n",
              "</div>\n",
              "      <button class=\"colab-df-convert\" onclick=\"convertToInteractive('df-9d939378-b016-4966-a383-2265c9a2e3e8')\"\n",
              "              title=\"Convert this dataframe to an interactive table.\"\n",
              "              style=\"display:none;\">\n",
              "        \n",
              "  <svg xmlns=\"http://www.w3.org/2000/svg\" height=\"24px\"viewBox=\"0 0 24 24\"\n",
              "       width=\"24px\">\n",
              "    <path d=\"M0 0h24v24H0V0z\" fill=\"none\"/>\n",
              "    <path d=\"M18.56 5.44l.94 2.06.94-2.06 2.06-.94-2.06-.94-.94-2.06-.94 2.06-2.06.94zm-11 1L8.5 8.5l.94-2.06 2.06-.94-2.06-.94L8.5 2.5l-.94 2.06-2.06.94zm10 10l.94 2.06.94-2.06 2.06-.94-2.06-.94-.94-2.06-.94 2.06-2.06.94z\"/><path d=\"M17.41 7.96l-1.37-1.37c-.4-.4-.92-.59-1.43-.59-.52 0-1.04.2-1.43.59L10.3 9.45l-7.72 7.72c-.78.78-.78 2.05 0 2.83L4 21.41c.39.39.9.59 1.41.59.51 0 1.02-.2 1.41-.59l7.78-7.78 2.81-2.81c.8-.78.8-2.07 0-2.86zM5.41 20L4 18.59l7.72-7.72 1.47 1.35L5.41 20z\"/>\n",
              "  </svg>\n",
              "      </button>\n",
              "      \n",
              "  <style>\n",
              "    .colab-df-container {\n",
              "      display:flex;\n",
              "      flex-wrap:wrap;\n",
              "      gap: 12px;\n",
              "    }\n",
              "\n",
              "    .colab-df-convert {\n",
              "      background-color: #E8F0FE;\n",
              "      border: none;\n",
              "      border-radius: 50%;\n",
              "      cursor: pointer;\n",
              "      display: none;\n",
              "      fill: #1967D2;\n",
              "      height: 32px;\n",
              "      padding: 0 0 0 0;\n",
              "      width: 32px;\n",
              "    }\n",
              "\n",
              "    .colab-df-convert:hover {\n",
              "      background-color: #E2EBFA;\n",
              "      box-shadow: 0px 1px 2px rgba(60, 64, 67, 0.3), 0px 1px 3px 1px rgba(60, 64, 67, 0.15);\n",
              "      fill: #174EA6;\n",
              "    }\n",
              "\n",
              "    [theme=dark] .colab-df-convert {\n",
              "      background-color: #3B4455;\n",
              "      fill: #D2E3FC;\n",
              "    }\n",
              "\n",
              "    [theme=dark] .colab-df-convert:hover {\n",
              "      background-color: #434B5C;\n",
              "      box-shadow: 0px 1px 3px 1px rgba(0, 0, 0, 0.15);\n",
              "      filter: drop-shadow(0px 1px 2px rgba(0, 0, 0, 0.3));\n",
              "      fill: #FFFFFF;\n",
              "    }\n",
              "  </style>\n",
              "\n",
              "      <script>\n",
              "        const buttonEl =\n",
              "          document.querySelector('#df-9d939378-b016-4966-a383-2265c9a2e3e8 button.colab-df-convert');\n",
              "        buttonEl.style.display =\n",
              "          google.colab.kernel.accessAllowed ? 'block' : 'none';\n",
              "\n",
              "        async function convertToInteractive(key) {\n",
              "          const element = document.querySelector('#df-9d939378-b016-4966-a383-2265c9a2e3e8');\n",
              "          const dataTable =\n",
              "            await google.colab.kernel.invokeFunction('convertToInteractive',\n",
              "                                                     [key], {});\n",
              "          if (!dataTable) return;\n",
              "\n",
              "          const docLinkHtml = 'Like what you see? Visit the ' +\n",
              "            '<a target=\"_blank\" href=https://colab.research.google.com/notebooks/data_table.ipynb>data table notebook</a>'\n",
              "            + ' to learn more about interactive tables.';\n",
              "          element.innerHTML = '';\n",
              "          dataTable['output_type'] = 'display_data';\n",
              "          await google.colab.output.renderOutput(dataTable, element);\n",
              "          const docLink = document.createElement('div');\n",
              "          docLink.innerHTML = docLinkHtml;\n",
              "          element.appendChild(docLink);\n",
              "        }\n",
              "      </script>\n",
              "    </div>\n",
              "  </div>\n",
              "  "
            ]
          },
          "metadata": {},
          "execution_count": 25
        }
      ]
    },
    {
      "cell_type": "code",
      "source": [
        "for row in tweets_df.itertuples():\n",
        "    tweet = tweets_df.at[row[0], 'absolute_tidy_tweets']\n",
        "    result=fetch_sentiment_using_textblob(tweet)\n",
        "    tweets_df.at[row[0], 'Sentiment']=result"
      ],
      "metadata": {
        "id": "u20g-0NrAd8W"
      },
      "execution_count": 26,
      "outputs": []
    },
    {
      "cell_type": "code",
      "source": [
        "tweets_df['Sentiment'].unique()"
      ],
      "metadata": {
        "colab": {
          "base_uri": "https://localhost:8080/"
        },
        "id": "xwd4sqiLA6WU",
        "outputId": "f0effd61-625d-4f41-d4da-dbdf4c8687e8"
      },
      "execution_count": 27,
      "outputs": [
        {
          "output_type": "execute_result",
          "data": {
            "text/plain": [
              "array(['neutral', 'positive', 'negative'], dtype=object)"
            ]
          },
          "metadata": {},
          "execution_count": 27
        }
      ]
    },
    {
      "cell_type": "code",
      "source": [
        "tweets_df.head(100)"
      ],
      "metadata": {
        "colab": {
          "base_uri": "https://localhost:8080/",
          "height": 641
        },
        "id": "iYXKoAlbEicX",
        "outputId": "5542e221-aed0-448e-e264-518f94d96ddb"
      },
      "execution_count": 28,
      "outputs": [
        {
          "output_type": "execute_result",
          "data": {
            "text/plain": [
              "                                               tweets  \\\n",
              "0   @ainunrozi pemaaf sih ak mah, cm ya gamau kena...   \n",
              "1   RT @Nyanfood: environment work for @isavtuber ...   \n",
              "2   RT @TRU_Lab: Fascinating book by #IanSanjayPat...   \n",
              "3   RT @FrancisSuarez: As someone who is pro #bitc...   \n",
              "4   RT @down_with_putin: @Nestle is one of the wor...   \n",
              "..                                                ...   \n",
              "95  @GOC_Wrestling WWE's environment tells you tha...   \n",
              "96  RT @AdrianRamsay: Great sessions out canvassin...   \n",
              "97  RT @boojieshay: Switch your environment up bec...   \n",
              "98  There are also giant bettas, which will need a...   \n",
              "99  RT @NWSNorman: 2:31pm - Storms have begun to d...   \n",
              "\n",
              "                                          tidy_tweets  \\\n",
              "0   @ainunrozi pemaaf sih ak mah, cm ya gamau kena...   \n",
              "1   environment work for @isavtuber figure art by ...   \n",
              "2   Fascinating book by #IanSanjayPatel of @bbkpsy...   \n",
              "3   As someone who is pro #bitcoin and cares about...   \n",
              "4   @Nestle is one of the worst companies in the w...   \n",
              "..                                                ...   \n",
              "95  @GOC_Wrestling WWE's environment tells you tha...   \n",
              "96  Great sessions out canvassing with @NorwichGre...   \n",
              "97  Switch your environment up because sometimes y...   \n",
              "98  There are also giant bettas, which will need a...   \n",
              "99  2:31pm - Storms have begun to develop along th...   \n",
              "\n",
              "                                 absolute_tidy_tweets Sentiment  \n",
              "0   ainunrozi pemaaf sih ak mah cm ya gamau kenal ...   neutral  \n",
              "1   environment work isavtuber figure art clay ysr...   neutral  \n",
              "2   Fascinating book #IanSanjayPatel bbkpsychosoci...  positive  \n",
              "3   As someone pro #bitcoin care environment I urg...   neutral  \n",
              "4   Nestle one worst company world In addition pro...  negative  \n",
              "..                                                ...       ...  \n",
              "95  GOCWrestling WWEs environment tell risk gettin...   neutral  \n",
              "96  Great session canvassing NorwichGreens eally p...  positive  \n",
              "97                   Switch environment sometimes see   neutral  \n",
              "98  There also giant bettas need minimum gallon mo...   neutral  \n",
              "99  pm Storms begun develop along dryline northwes...  negative  \n",
              "\n",
              "[100 rows x 4 columns]"
            ],
            "text/html": [
              "\n",
              "  <div id=\"df-aa16c6cd-b32e-4e50-b47d-e61e27e39542\">\n",
              "    <div class=\"colab-df-container\">\n",
              "      <div>\n",
              "<style scoped>\n",
              "    .dataframe tbody tr th:only-of-type {\n",
              "        vertical-align: middle;\n",
              "    }\n",
              "\n",
              "    .dataframe tbody tr th {\n",
              "        vertical-align: top;\n",
              "    }\n",
              "\n",
              "    .dataframe thead th {\n",
              "        text-align: right;\n",
              "    }\n",
              "</style>\n",
              "<table border=\"1\" class=\"dataframe\">\n",
              "  <thead>\n",
              "    <tr style=\"text-align: right;\">\n",
              "      <th></th>\n",
              "      <th>tweets</th>\n",
              "      <th>tidy_tweets</th>\n",
              "      <th>absolute_tidy_tweets</th>\n",
              "      <th>Sentiment</th>\n",
              "    </tr>\n",
              "  </thead>\n",
              "  <tbody>\n",
              "    <tr>\n",
              "      <th>0</th>\n",
              "      <td>@ainunrozi pemaaf sih ak mah, cm ya gamau kena...</td>\n",
              "      <td>@ainunrozi pemaaf sih ak mah, cm ya gamau kena...</td>\n",
              "      <td>ainunrozi pemaaf sih ak mah cm ya gamau kenal ...</td>\n",
              "      <td>neutral</td>\n",
              "    </tr>\n",
              "    <tr>\n",
              "      <th>1</th>\n",
              "      <td>RT @Nyanfood: environment work for @isavtuber ...</td>\n",
              "      <td>environment work for @isavtuber figure art by ...</td>\n",
              "      <td>environment work isavtuber figure art clay ysr...</td>\n",
              "      <td>neutral</td>\n",
              "    </tr>\n",
              "    <tr>\n",
              "      <th>2</th>\n",
              "      <td>RT @TRU_Lab: Fascinating book by #IanSanjayPat...</td>\n",
              "      <td>Fascinating book by #IanSanjayPatel of @bbkpsy...</td>\n",
              "      <td>Fascinating book #IanSanjayPatel bbkpsychosoci...</td>\n",
              "      <td>positive</td>\n",
              "    </tr>\n",
              "    <tr>\n",
              "      <th>3</th>\n",
              "      <td>RT @FrancisSuarez: As someone who is pro #bitc...</td>\n",
              "      <td>As someone who is pro #bitcoin and cares about...</td>\n",
              "      <td>As someone pro #bitcoin care environment I urg...</td>\n",
              "      <td>neutral</td>\n",
              "    </tr>\n",
              "    <tr>\n",
              "      <th>4</th>\n",
              "      <td>RT @down_with_putin: @Nestle is one of the wor...</td>\n",
              "      <td>@Nestle is one of the worst companies in the w...</td>\n",
              "      <td>Nestle one worst company world In addition pro...</td>\n",
              "      <td>negative</td>\n",
              "    </tr>\n",
              "    <tr>\n",
              "      <th>...</th>\n",
              "      <td>...</td>\n",
              "      <td>...</td>\n",
              "      <td>...</td>\n",
              "      <td>...</td>\n",
              "    </tr>\n",
              "    <tr>\n",
              "      <th>95</th>\n",
              "      <td>@GOC_Wrestling WWE's environment tells you tha...</td>\n",
              "      <td>@GOC_Wrestling WWE's environment tells you tha...</td>\n",
              "      <td>GOCWrestling WWEs environment tell risk gettin...</td>\n",
              "      <td>neutral</td>\n",
              "    </tr>\n",
              "    <tr>\n",
              "      <th>96</th>\n",
              "      <td>RT @AdrianRamsay: Great sessions out canvassin...</td>\n",
              "      <td>Great sessions out canvassing with @NorwichGre...</td>\n",
              "      <td>Great session canvassing NorwichGreens eally p...</td>\n",
              "      <td>positive</td>\n",
              "    </tr>\n",
              "    <tr>\n",
              "      <th>97</th>\n",
              "      <td>RT @boojieshay: Switch your environment up bec...</td>\n",
              "      <td>Switch your environment up because sometimes y...</td>\n",
              "      <td>Switch environment sometimes see</td>\n",
              "      <td>neutral</td>\n",
              "    </tr>\n",
              "    <tr>\n",
              "      <th>98</th>\n",
              "      <td>There are also giant bettas, which will need a...</td>\n",
              "      <td>There are also giant bettas, which will need a...</td>\n",
              "      <td>There also giant bettas need minimum gallon mo...</td>\n",
              "      <td>neutral</td>\n",
              "    </tr>\n",
              "    <tr>\n",
              "      <th>99</th>\n",
              "      <td>RT @NWSNorman: 2:31pm - Storms have begun to d...</td>\n",
              "      <td>2:31pm - Storms have begun to develop along th...</td>\n",
              "      <td>pm Storms begun develop along dryline northwes...</td>\n",
              "      <td>negative</td>\n",
              "    </tr>\n",
              "  </tbody>\n",
              "</table>\n",
              "<p>100 rows × 4 columns</p>\n",
              "</div>\n",
              "      <button class=\"colab-df-convert\" onclick=\"convertToInteractive('df-aa16c6cd-b32e-4e50-b47d-e61e27e39542')\"\n",
              "              title=\"Convert this dataframe to an interactive table.\"\n",
              "              style=\"display:none;\">\n",
              "        \n",
              "  <svg xmlns=\"http://www.w3.org/2000/svg\" height=\"24px\"viewBox=\"0 0 24 24\"\n",
              "       width=\"24px\">\n",
              "    <path d=\"M0 0h24v24H0V0z\" fill=\"none\"/>\n",
              "    <path d=\"M18.56 5.44l.94 2.06.94-2.06 2.06-.94-2.06-.94-.94-2.06-.94 2.06-2.06.94zm-11 1L8.5 8.5l.94-2.06 2.06-.94-2.06-.94L8.5 2.5l-.94 2.06-2.06.94zm10 10l.94 2.06.94-2.06 2.06-.94-2.06-.94-.94-2.06-.94 2.06-2.06.94z\"/><path d=\"M17.41 7.96l-1.37-1.37c-.4-.4-.92-.59-1.43-.59-.52 0-1.04.2-1.43.59L10.3 9.45l-7.72 7.72c-.78.78-.78 2.05 0 2.83L4 21.41c.39.39.9.59 1.41.59.51 0 1.02-.2 1.41-.59l7.78-7.78 2.81-2.81c.8-.78.8-2.07 0-2.86zM5.41 20L4 18.59l7.72-7.72 1.47 1.35L5.41 20z\"/>\n",
              "  </svg>\n",
              "      </button>\n",
              "      \n",
              "  <style>\n",
              "    .colab-df-container {\n",
              "      display:flex;\n",
              "      flex-wrap:wrap;\n",
              "      gap: 12px;\n",
              "    }\n",
              "\n",
              "    .colab-df-convert {\n",
              "      background-color: #E8F0FE;\n",
              "      border: none;\n",
              "      border-radius: 50%;\n",
              "      cursor: pointer;\n",
              "      display: none;\n",
              "      fill: #1967D2;\n",
              "      height: 32px;\n",
              "      padding: 0 0 0 0;\n",
              "      width: 32px;\n",
              "    }\n",
              "\n",
              "    .colab-df-convert:hover {\n",
              "      background-color: #E2EBFA;\n",
              "      box-shadow: 0px 1px 2px rgba(60, 64, 67, 0.3), 0px 1px 3px 1px rgba(60, 64, 67, 0.15);\n",
              "      fill: #174EA6;\n",
              "    }\n",
              "\n",
              "    [theme=dark] .colab-df-convert {\n",
              "      background-color: #3B4455;\n",
              "      fill: #D2E3FC;\n",
              "    }\n",
              "\n",
              "    [theme=dark] .colab-df-convert:hover {\n",
              "      background-color: #434B5C;\n",
              "      box-shadow: 0px 1px 3px 1px rgba(0, 0, 0, 0.15);\n",
              "      filter: drop-shadow(0px 1px 2px rgba(0, 0, 0, 0.3));\n",
              "      fill: #FFFFFF;\n",
              "    }\n",
              "  </style>\n",
              "\n",
              "      <script>\n",
              "        const buttonEl =\n",
              "          document.querySelector('#df-aa16c6cd-b32e-4e50-b47d-e61e27e39542 button.colab-df-convert');\n",
              "        buttonEl.style.display =\n",
              "          google.colab.kernel.accessAllowed ? 'block' : 'none';\n",
              "\n",
              "        async function convertToInteractive(key) {\n",
              "          const element = document.querySelector('#df-aa16c6cd-b32e-4e50-b47d-e61e27e39542');\n",
              "          const dataTable =\n",
              "            await google.colab.kernel.invokeFunction('convertToInteractive',\n",
              "                                                     [key], {});\n",
              "          if (!dataTable) return;\n",
              "\n",
              "          const docLinkHtml = 'Like what you see? Visit the ' +\n",
              "            '<a target=\"_blank\" href=https://colab.research.google.com/notebooks/data_table.ipynb>data table notebook</a>'\n",
              "            + ' to learn more about interactive tables.';\n",
              "          element.innerHTML = '';\n",
              "          dataTable['output_type'] = 'display_data';\n",
              "          await google.colab.output.renderOutput(dataTable, element);\n",
              "          const docLink = document.createElement('div');\n",
              "          docLink.innerHTML = docLinkHtml;\n",
              "          element.appendChild(docLink);\n",
              "        }\n",
              "      </script>\n",
              "    </div>\n",
              "  </div>\n",
              "  "
            ]
          },
          "metadata": {},
          "execution_count": 28
        }
      ]
    },
    {
      "cell_type": "code",
      "source": [
        "target_variable = tweets_df['Sentiment'].apply(lambda x: 0 if x=='negative' else 1 if x=='positive' else -1 )"
      ],
      "metadata": {
        "id": "f-t03Tmo-qEL"
      },
      "execution_count": 29,
      "outputs": []
    },
    {
      "cell_type": "code",
      "source": [
        ""
      ],
      "metadata": {
        "id": "E7OZ8BM4m_ii"
      },
      "execution_count": 29,
      "outputs": []
    },
    {
      "cell_type": "markdown",
      "source": [
        "# Modeling"
      ],
      "metadata": {
        "id": "ehRd7BJRhsFM"
      }
    },
    {
      "cell_type": "markdown",
      "source": [
        "## Gaussian NB"
      ],
      "metadata": {
        "id": "RB5_PzbIh5qT"
      }
    },
    {
      "cell_type": "code",
      "source": [
        "from sklearn.naive_bayes import GaussianNB\n",
        "from sklearn.model_selection import train_test_split\n",
        "from sklearn.metrics import f1_score\n",
        "from sklearn import metrics\n",
        "\n",
        "def naive_model(X_train, X_test, y_train, y_test):\n",
        "    naive_classifier = GaussianNB()\n",
        "    naive_classifier.fit(X_train.toarray(), y_train)\n",
        "    import joblib\n",
        "    from joblib import dump\n",
        "\n",
        "    # dump the pipeline model\n",
        "    dump(naive_classifier, filename=\"text_classification.joblib\")\n",
        "    # predictions over test set\n",
        "    predictions = naive_classifier.predict(X_test.toarray())\n",
        "    \n",
        "    # calculating f1 score\n",
        "    accuracy=metrics.accuracy_score(predictions,y_test)\n",
        "    print(f'Accuracy Score - {accuracy}')"
      ],
      "metadata": {
        "id": "N3Ke5paI-tCt"
      },
      "execution_count": 40,
      "outputs": []
    },
    {
      "cell_type": "code",
      "source": [
        "X_train, X_test, y_train, y_test = train_test_split(bow_word_feature, target_variable, test_size=0.3, random_state=870)\n",
        "naive_model(X_train, X_test, y_train, y_test)"
      ],
      "metadata": {
        "colab": {
          "base_uri": "https://localhost:8080/"
        },
        "id": "L061WqTZBKBR",
        "outputId": "8f486710-92c7-4f21-94c9-8592c202ecce"
      },
      "execution_count": 41,
      "outputs": [
        {
          "output_type": "stream",
          "name": "stdout",
          "text": [
            "Accuracy Score - 0.24102564102564103\n"
          ]
        }
      ]
    },
    {
      "cell_type": "code",
      "source": [
        "X_train"
      ],
      "metadata": {
        "colab": {
          "base_uri": "https://localhost:8080/"
        },
        "id": "Ur1bfz113Shu",
        "outputId": "6280118e-8ad9-462f-8d65-55820c762e88"
      },
      "execution_count": 42,
      "outputs": [
        {
          "output_type": "execute_result",
          "data": {
            "text/plain": [
              "<455x50 sparse matrix of type '<class 'numpy.int64'>'\n",
              "\twith 701 stored elements in Compressed Sparse Row format>"
            ]
          },
          "metadata": {},
          "execution_count": 42
        }
      ]
    },
    {
      "cell_type": "code",
      "source": [
        "X_test"
      ],
      "metadata": {
        "colab": {
          "base_uri": "https://localhost:8080/"
        },
        "id": "SB27HfMFv689",
        "outputId": "5350e558-7b8f-447f-c469-aa1a1b3dafc8"
      },
      "execution_count": 43,
      "outputs": [
        {
          "output_type": "execute_result",
          "data": {
            "text/plain": [
              "<195x50 sparse matrix of type '<class 'numpy.int64'>'\n",
              "\twith 276 stored elements in Compressed Sparse Row format>"
            ]
          },
          "metadata": {},
          "execution_count": 43
        }
      ]
    },
    {
      "cell_type": "code",
      "source": [
        "X_train, X_test, y_train, y_test = train_test_split(tfidf_word_feature, target_variable, test_size=0.3, random_state=870)\n",
        "naive_model(X_train, X_test, y_train, y_test)\n"
      ],
      "metadata": {
        "colab": {
          "base_uri": "https://localhost:8080/"
        },
        "id": "0OcNP5XIBNII",
        "outputId": "c58b395b-45b0-4821-f034-398e1d17a40c"
      },
      "execution_count": 44,
      "outputs": [
        {
          "output_type": "stream",
          "name": "stdout",
          "text": [
            "Accuracy Score - 0.24615384615384617\n"
          ]
        }
      ]
    },
    {
      "cell_type": "code",
      "source": [
        "from google.colab import files\n",
        "files.download('text_classification.joblib') "
      ],
      "metadata": {
        "colab": {
          "base_uri": "https://localhost:8080/",
          "height": 17
        },
        "id": "9Sj5A7jkBP57",
        "outputId": "0a55fac6-379e-4a8d-8a9c-785d0865b71c"
      },
      "execution_count": 45,
      "outputs": [
        {
          "output_type": "display_data",
          "data": {
            "text/plain": [
              "<IPython.core.display.Javascript object>"
            ],
            "application/javascript": [
              "\n",
              "    async function download(id, filename, size) {\n",
              "      if (!google.colab.kernel.accessAllowed) {\n",
              "        return;\n",
              "      }\n",
              "      const div = document.createElement('div');\n",
              "      const label = document.createElement('label');\n",
              "      label.textContent = `Downloading \"${filename}\": `;\n",
              "      div.appendChild(label);\n",
              "      const progress = document.createElement('progress');\n",
              "      progress.max = size;\n",
              "      div.appendChild(progress);\n",
              "      document.body.appendChild(div);\n",
              "\n",
              "      const buffers = [];\n",
              "      let downloaded = 0;\n",
              "\n",
              "      const channel = await google.colab.kernel.comms.open(id);\n",
              "      // Send a message to notify the kernel that we're ready.\n",
              "      channel.send({})\n",
              "\n",
              "      for await (const message of channel.messages) {\n",
              "        // Send a message to notify the kernel that we're ready.\n",
              "        channel.send({})\n",
              "        if (message.buffers) {\n",
              "          for (const buffer of message.buffers) {\n",
              "            buffers.push(buffer);\n",
              "            downloaded += buffer.byteLength;\n",
              "            progress.value = downloaded;\n",
              "          }\n",
              "        }\n",
              "      }\n",
              "      const blob = new Blob(buffers, {type: 'application/binary'});\n",
              "      const a = document.createElement('a');\n",
              "      a.href = window.URL.createObjectURL(blob);\n",
              "      a.download = filename;\n",
              "      div.appendChild(a);\n",
              "      a.click();\n",
              "      div.remove();\n",
              "    }\n",
              "  "
            ]
          },
          "metadata": {}
        },
        {
          "output_type": "display_data",
          "data": {
            "text/plain": [
              "<IPython.core.display.Javascript object>"
            ],
            "application/javascript": [
              "download(\"download_5c066533-a133-46ed-90ed-7ce3b0b5a4e3\", \"text_classification.joblib\", 3157)"
            ]
          },
          "metadata": {}
        }
      ]
    },
    {
      "cell_type": "code",
      "source": [
        "from tensorflow.keras.layers import LSTM, Activation, Dense, Dropout, Input, Embedding\n",
        "from tensorflow.keras.models import Model\n",
        "from tensorflow.keras.optimizers import RMSprop\n",
        "from tensorflow.keras.preprocessing.text import Tokenizer\n",
        "from tensorflow.keras.preprocessing import sequence\n",
        "from tensorflow.keras.optimizers import RMSprop\n",
        "%matplotlib inline\n",
        "\n",
        "import warnings\n",
        "warnings.filterwarnings(\"ignore\")"
      ],
      "metadata": {
        "id": "xYOG-lO4mEyj"
      },
      "execution_count": 46,
      "outputs": []
    },
    {
      "cell_type": "markdown",
      "source": [
        "## tensorflow model "
      ],
      "metadata": {
        "id": "VTJpsnvah-Pl"
      }
    },
    {
      "cell_type": "code",
      "source": [
        "max_len=50\n",
        "def tensorflow_based_model(): \n",
        "    inputs = Input(name='inputs',shape=[max_len])\n",
        "    layer = Embedding(2000,50,input_length=max_len)(inputs) \n",
        "    layer = LSTM(64)(layer) \n",
        "    layer = Dense(256,name='FC1')(layer) \n",
        "    layer = Activation('relu')(layer) \n",
        "    layer = Dropout(0.5)(layer) \n",
        "    layer = Dense(1,name='out_layer')(layer) \n",
        "    layer = Activation('sigmoid')(layer) \n",
        "    model = Model(inputs=inputs,outputs=layer) \n",
        "    return model "
      ],
      "metadata": {
        "id": "vtqaXXyrX2d0"
      },
      "execution_count": 47,
      "outputs": []
    },
    {
      "cell_type": "code",
      "source": [
        "model = tensorflow_based_model() \n",
        "model.compile(loss='binary_crossentropy',optimizer='Adam',metrics=['accuracy'])"
      ],
      "metadata": {
        "id": "wpiQPoVmkS9w"
      },
      "execution_count": 48,
      "outputs": []
    },
    {
      "cell_type": "code",
      "source": [
        "import joblib\n",
        "from joblib import dump\n",
        "\n",
        "    # dump the pipeline model\n",
        "dump(model, filename=\"nn.joblib\")"
      ],
      "metadata": {
        "colab": {
          "base_uri": "https://localhost:8080/"
        },
        "id": "fv1TmnIynMcW",
        "outputId": "052466e9-499e-42bf-d482-b95f1cd6347c"
      },
      "execution_count": 59,
      "outputs": [
        {
          "output_type": "stream",
          "name": "stderr",
          "text": [
            "WARNING:absl:Found untraced functions such as lstm_cell_layer_call_fn, lstm_cell_layer_call_and_return_conditional_losses while saving (showing 2 of 2). These functions will not be directly callable after loading.\n"
          ]
        },
        {
          "output_type": "stream",
          "name": "stdout",
          "text": [
            "INFO:tensorflow:Assets written to: ram://236bf318-22b6-404b-8086-36ca8126bcbc/assets\n"
          ]
        },
        {
          "output_type": "stream",
          "name": "stderr",
          "text": [
            "INFO:tensorflow:Assets written to: ram://236bf318-22b6-404b-8086-36ca8126bcbc/assets\n",
            "WARNING:absl:<keras.layers.recurrent.LSTMCell object at 0x7fd3ffdb3590> has the same name 'LSTMCell' as a built-in Keras object. Consider renaming <class 'keras.layers.recurrent.LSTMCell'> to avoid naming conflicts when loading with `tf.keras.models.load_model`. If renaming is not possible, pass the object in the `custom_objects` parameter of the load function.\n"
          ]
        },
        {
          "output_type": "execute_result",
          "data": {
            "text/plain": [
              "['nn.joblib']"
            ]
          },
          "metadata": {},
          "execution_count": 59
        }
      ]
    },
    {
      "cell_type": "code",
      "source": [
        "# from google.colab import files\n",
        "# files.download('nn.joblib') \n"
      ],
      "metadata": {
        "colab": {
          "base_uri": "https://localhost:8080/",
          "height": 17
        },
        "id": "tjybA3WLY9rR",
        "outputId": "d4c577b4-75a4-4815-9d7b-6953206474f0"
      },
      "execution_count": 60,
      "outputs": [
        {
          "output_type": "display_data",
          "data": {
            "text/plain": [
              "<IPython.core.display.Javascript object>"
            ],
            "application/javascript": [
              "\n",
              "    async function download(id, filename, size) {\n",
              "      if (!google.colab.kernel.accessAllowed) {\n",
              "        return;\n",
              "      }\n",
              "      const div = document.createElement('div');\n",
              "      const label = document.createElement('label');\n",
              "      label.textContent = `Downloading \"${filename}\": `;\n",
              "      div.appendChild(label);\n",
              "      const progress = document.createElement('progress');\n",
              "      progress.max = size;\n",
              "      div.appendChild(progress);\n",
              "      document.body.appendChild(div);\n",
              "\n",
              "      const buffers = [];\n",
              "      let downloaded = 0;\n",
              "\n",
              "      const channel = await google.colab.kernel.comms.open(id);\n",
              "      // Send a message to notify the kernel that we're ready.\n",
              "      channel.send({})\n",
              "\n",
              "      for await (const message of channel.messages) {\n",
              "        // Send a message to notify the kernel that we're ready.\n",
              "        channel.send({})\n",
              "        if (message.buffers) {\n",
              "          for (const buffer of message.buffers) {\n",
              "            buffers.push(buffer);\n",
              "            downloaded += buffer.byteLength;\n",
              "            progress.value = downloaded;\n",
              "          }\n",
              "        }\n",
              "      }\n",
              "      const blob = new Blob(buffers, {type: 'application/binary'});\n",
              "      const a = document.createElement('a');\n",
              "      a.href = window.URL.createObjectURL(blob);\n",
              "      a.download = filename;\n",
              "      div.appendChild(a);\n",
              "      a.click();\n",
              "      div.remove();\n",
              "    }\n",
              "  "
            ]
          },
          "metadata": {}
        },
        {
          "output_type": "display_data",
          "data": {
            "text/plain": [
              "<IPython.core.display.Javascript object>"
            ],
            "application/javascript": [
              "download(\"download_bb564ec4-d0c8-465b-a16d-2be6f39897be\", \"nn.joblib\", 2447645)"
            ]
          },
          "metadata": {}
        }
      ]
    },
    {
      "cell_type": "code",
      "source": [
        ""
      ],
      "metadata": {
        "id": "EsprsPVAY9e-"
      },
      "execution_count": null,
      "outputs": []
    },
    {
      "cell_type": "code",
      "source": [
        "X=tweets_df.absolute_tidy_tweets\n",
        "y=target_variable"
      ],
      "metadata": {
        "id": "sqMxnLglm4KH"
      },
      "execution_count": 49,
      "outputs": []
    },
    {
      "cell_type": "code",
      "source": [
        "max_len = 50\n",
        "tok = Tokenizer(num_words=2000)\n",
        "tok.fit_on_texts(X)\n",
        "sequences = tok.texts_to_sequences(X)\n",
        "sequences_matrix = sequence.pad_sequences(sequences,maxlen=max_len)"
      ],
      "metadata": {
        "id": "u46Ydf6EoBdT"
      },
      "execution_count": 50,
      "outputs": []
    },
    {
      "cell_type": "code",
      "source": [
        "sequences_matrix.shape"
      ],
      "metadata": {
        "colab": {
          "base_uri": "https://localhost:8080/"
        },
        "id": "XNgi-qYdoGVb",
        "outputId": "29615823-395c-4e0d-c0ec-cb0d7a2413c8"
      },
      "execution_count": 51,
      "outputs": [
        {
          "output_type": "execute_result",
          "data": {
            "text/plain": [
              "(650, 50)"
            ]
          },
          "metadata": {},
          "execution_count": 51
        }
      ]
    },
    {
      "cell_type": "code",
      "source": [
        "X_train, X_test, Y_train, Y_test = train_test_split(sequences_matrix, y, test_size=0.3, random_state=2)"
      ],
      "metadata": {
        "id": "2zau8zfhoJkO"
      },
      "execution_count": 52,
      "outputs": []
    },
    {
      "cell_type": "code",
      "source": [
        "history=model.fit(X_train,Y_train,batch_size=80,epochs=20)\n",
        "print('Training finished !!')"
      ],
      "metadata": {
        "colab": {
          "base_uri": "https://localhost:8080/"
        },
        "id": "J-jT-LAGjlV6",
        "outputId": "fdc0175c-da35-4e3c-c4fb-8345f47c1034"
      },
      "execution_count": 53,
      "outputs": [
        {
          "output_type": "stream",
          "name": "stdout",
          "text": [
            "Epoch 1/20\n",
            "6/6 [==============================] - 2s 39ms/step - loss: 0.6750 - accuracy: 0.1956\n",
            "Epoch 2/20\n",
            "6/6 [==============================] - 0s 41ms/step - loss: 0.5484 - accuracy: 0.1604\n",
            "Epoch 3/20\n",
            "6/6 [==============================] - 0s 42ms/step - loss: 0.1338 - accuracy: 0.1604\n",
            "Epoch 4/20\n",
            "6/6 [==============================] - 0s 39ms/step - loss: -0.1104 - accuracy: 0.1604\n",
            "Epoch 5/20\n",
            "6/6 [==============================] - 0s 39ms/step - loss: -0.0750 - accuracy: 0.1604\n",
            "Epoch 6/20\n",
            "6/6 [==============================] - 0s 41ms/step - loss: -0.0982 - accuracy: 0.1604\n",
            "Epoch 7/20\n",
            "6/6 [==============================] - 0s 39ms/step - loss: -0.1960 - accuracy: 0.1604\n",
            "Epoch 8/20\n",
            "6/6 [==============================] - 0s 40ms/step - loss: -0.3987 - accuracy: 0.1604\n",
            "Epoch 9/20\n",
            "6/6 [==============================] - 0s 37ms/step - loss: -0.6183 - accuracy: 0.1604\n",
            "Epoch 10/20\n",
            "6/6 [==============================] - 0s 39ms/step - loss: -1.2509 - accuracy: 0.1604\n",
            "Epoch 11/20\n",
            "6/6 [==============================] - 0s 38ms/step - loss: -2.4580 - accuracy: 0.1758\n",
            "Epoch 12/20\n",
            "6/6 [==============================] - 0s 39ms/step - loss: -4.6757 - accuracy: 0.2527\n",
            "Epoch 13/20\n",
            "6/6 [==============================] - 0s 38ms/step - loss: -8.1942 - accuracy: 0.3099\n",
            "Epoch 14/20\n",
            "6/6 [==============================] - 0s 40ms/step - loss: -13.6140 - accuracy: 0.4000\n",
            "Epoch 15/20\n",
            "6/6 [==============================] - 0s 40ms/step - loss: -20.5340 - accuracy: 0.4396\n",
            "Epoch 16/20\n",
            "6/6 [==============================] - 0s 39ms/step - loss: -28.6246 - accuracy: 0.4571\n",
            "Epoch 17/20\n",
            "6/6 [==============================] - 0s 39ms/step - loss: -37.2592 - accuracy: 0.4835\n",
            "Epoch 18/20\n",
            "6/6 [==============================] - 0s 38ms/step - loss: -47.2179 - accuracy: 0.5165\n",
            "Epoch 19/20\n",
            "6/6 [==============================] - 0s 39ms/step - loss: -57.4851 - accuracy: 0.5033\n",
            "Epoch 20/20\n",
            "6/6 [==============================] - 0s 39ms/step - loss: -69.8932 - accuracy: 0.5297\n",
            "Training finished !!\n"
          ]
        }
      ]
    },
    {
      "cell_type": "code",
      "source": [
        "accr1 = model.evaluate(X_test,Y_test)"
      ],
      "metadata": {
        "colab": {
          "base_uri": "https://localhost:8080/"
        },
        "id": "Wp9i0ghpkNH3",
        "outputId": "da189d4b-ebd5-4085-d462-b76a947f0217"
      },
      "execution_count": 54,
      "outputs": [
        {
          "output_type": "stream",
          "name": "stdout",
          "text": [
            "7/7 [==============================] - 1s 14ms/step - loss: -25.2017 - accuracy: 0.2923\n"
          ]
        }
      ]
    },
    {
      "cell_type": "code",
      "source": [
        "print(accr1[1])"
      ],
      "metadata": {
        "colab": {
          "base_uri": "https://localhost:8080/"
        },
        "id": "C8CfhDnqoW-U",
        "outputId": "2342110e-926a-4ae6-a00b-1567072f72d5"
      },
      "execution_count": 56,
      "outputs": [
        {
          "output_type": "stream",
          "name": "stdout",
          "text": [
            "0.29230770468711853\n"
          ]
        }
      ]
    },
    {
      "cell_type": "markdown",
      "source": [
        "# Comparison"
      ],
      "metadata": {
        "id": "y7kqnMrbhxce"
      }
    },
    {
      "cell_type": "code",
      "source": [
        "import matplotlib.pyplot as plt\n",
        "data = {'Gausian NB - BOW':24.1, 'Gausian NB - TF-IDF':24.6, 'Tensor flow - LSTM':29,\n",
        "        }\n",
        "courses = list(data.keys())\n",
        "values = list(data.values())\n",
        "  \n",
        "fig = plt.figure(figsize = (10, 5))\n",
        " \n",
        "# creating the bar plot\n",
        "plt.bar(courses, values, color ='maroon',\n",
        "        width = 0.4)\n",
        " \n",
        "plt.xlabel(\"Models\")\n",
        "plt.ylabel(\"Accuracy\")\n",
        "plt.title(\"Accuracy of models\")\n",
        "\n",
        "plt.savefig(\"accuracy.pdf\")"
      ],
      "metadata": {
        "colab": {
          "base_uri": "https://localhost:8080/",
          "height": 350
        },
        "id": "LE1-tMSdoaeD",
        "outputId": "2fbe3dc8-79b6-4510-fb5c-df0888e38726"
      },
      "execution_count": 61,
      "outputs": [
        {
          "output_type": "display_data",
          "data": {
            "text/plain": [
              "<Figure size 720x360 with 1 Axes>"
            ],
            "image/png": "[encoded data removed]"
          },
          "metadata": {
            "needs_background": "light"
          }
        }
      ]
    },
    {
      "cell_type": "code",
      "source": [
        "from google.colab import files\n",
        "files.download('accuracy.pdf') \n"
      ],
      "metadata": {
        "colab": {
          "base_uri": "https://localhost:8080/",
          "height": 17
        },
        "id": "bKtAOBYrYZ_g",
        "outputId": "ee6763b7-2878-4cbf-857a-3a43dd4544d5"
      },
      "execution_count": 62,
      "outputs": [
        {
          "output_type": "display_data",
          "data": {
            "text/plain": [
              "<IPython.core.display.Javascript object>"
            ],
            "application/javascript": [
              "\n",
              "    async function download(id, filename, size) {\n",
              "      if (!google.colab.kernel.accessAllowed) {\n",
              "        return;\n",
              "      }\n",
              "      const div = document.createElement('div');\n",
              "      const label = document.createElement('label');\n",
              "      label.textContent = `Downloading \"${filename}\": `;\n",
              "      div.appendChild(label);\n",
              "      const progress = document.createElement('progress');\n",
              "      progress.max = size;\n",
              "      div.appendChild(progress);\n",
              "      document.body.appendChild(div);\n",
              "\n",
              "      const buffers = [];\n",
              "      let downloaded = 0;\n",
              "\n",
              "      const channel = await google.colab.kernel.comms.open(id);\n",
              "      // Send a message to notify the kernel that we're ready.\n",
              "      channel.send({})\n",
              "\n",
              "      for await (const message of channel.messages) {\n",
              "        // Send a message to notify the kernel that we're ready.\n",
              "        channel.send({})\n",
              "        if (message.buffers) {\n",
              "          for (const buffer of message.buffers) {\n",
              "            buffers.push(buffer);\n",
              "            downloaded += buffer.byteLength;\n",
              "            progress.value = downloaded;\n",
              "          }\n",
              "        }\n",
              "      }\n",
              "      const blob = new Blob(buffers, {type: 'application/binary'});\n",
              "      const a = document.createElement('a');\n",
              "      a.href = window.URL.createObjectURL(blob);\n",
              "      a.download = filename;\n",
              "      div.appendChild(a);\n",
              "      a.click();\n",
              "      div.remove();\n",
              "    }\n",
              "  "
            ]
          },
          "metadata": {}
        },
        {
          "output_type": "display_data",
          "data": {
            "text/plain": [
              "<IPython.core.display.Javascript object>"
            ],
            "application/javascript": [
              "download(\"download_fad281d0-332f-49ae-890b-f4e91f88819c\", \"accuracy.pdf\", 13105)"
            ]
          },
          "metadata": {}
        }
      ]
    },
    {
      "cell_type": "code",
      "source": [
        ""
      ],
      "metadata": {
        "id": "kCx2FmJlgwoN"
      },
      "execution_count": null,
      "outputs": []
    }
  ]
}